{
 "cells": [
  {
   "cell_type": "code",
   "execution_count": 1,
   "id": "54273fc9-a5a9-4473-bd60-ef3ee1fc394a",
   "metadata": {},
   "outputs": [],
   "source": [
    "import sys\n",
    "import os\n",
    "import argparse\n",
    "from model import WhisperSegmenter, WhisperSegmenterFast"
   ]
  },
  {
   "cell_type": "code",
   "execution_count": 13,
   "id": "30f334b2-3658-4251-9a09-c7e69bddd5f5",
   "metadata": {},
   "outputs": [],
   "source": [
    "import gc"
   ]
  },
  {
   "cell_type": "code",
   "execution_count": 14,
   "id": "2f672a00-3c4a-4b30-b4c2-7af711ab754b",
   "metadata": {},
   "outputs": [
    {
     "name": "stdout",
     "output_type": "stream",
     "text": [
      "Wed Jun 26 09:58:08 2024       \n",
      "+---------------------------------------------------------------------------------------+\n",
      "| NVIDIA-SMI 535.104.05             Driver Version: 535.104.05   CUDA Version: 12.2     |\n",
      "|-----------------------------------------+----------------------+----------------------+\n",
      "| GPU  Name                 Persistence-M | Bus-Id        Disp.A | Volatile Uncorr. ECC |\n",
      "| Fan  Temp   Perf          Pwr:Usage/Cap |         Memory-Usage | GPU-Util  Compute M. |\n",
      "|                                         |                      |               MIG M. |\n",
      "|=========================================+======================+======================|\n",
      "|   0  NVIDIA RTX A6000               Off | 00000000:41:00.0 Off |                  Off |\n",
      "| 30%   33C    P8              23W / 300W |    290MiB / 49140MiB |      0%      Default |\n",
      "|                                         |                      |                  N/A |\n",
      "+-----------------------------------------+----------------------+----------------------+\n",
      "|   1  NVIDIA RTX A6000               Off | 00000000:C1:00.0 Off |                  Off |\n",
      "| 30%   34C    P8              20W / 300W |     14MiB / 49140MiB |      0%      Default |\n",
      "|                                         |                      |                  N/A |\n",
      "+-----------------------------------------+----------------------+----------------------+\n",
      "                                                                                         \n",
      "+---------------------------------------------------------------------------------------+\n",
      "| Processes:                                                                            |\n",
      "|  GPU   GI   CI        PID   Type   Process name                            GPU Memory |\n",
      "|        ID   ID                                                             Usage      |\n",
      "|=======================================================================================|\n",
      "|    0   N/A  N/A      1126      G   /usr/lib/xorg/Xorg                            9MiB |\n",
      "|    0   N/A  N/A      1355      G   /usr/bin/gnome-shell                          5MiB |\n",
      "|    0   N/A  N/A   3014179      C   python                                      260MiB |\n",
      "|    1   N/A  N/A      1126      G   /usr/lib/xorg/Xorg                            4MiB |\n",
      "+---------------------------------------------------------------------------------------+\n"
     ]
    }
   ],
   "source": [
    "!nvidia-smi"
   ]
  },
  {
   "cell_type": "code",
   "execution_count": 15,
   "id": "40e1980e-7640-4697-9f85-f089d27dfb26",
   "metadata": {},
   "outputs": [
    {
     "data": {
      "application/vnd.jupyter.widget-view+json": {
       "model_id": "b4e2b3f0d8f740858c1b578778d359ac",
       "version_major": 2,
       "version_minor": 0
      },
      "text/plain": [
       "Loading checkpoint shards:   0%|          | 0/2 [00:00<?, ?it/s]"
      ]
     },
     "metadata": {},
     "output_type": "display_data"
    },
    {
     "name": "stderr",
     "output_type": "stream",
     "text": [
      "Special tokens have been added in the vocabulary, make sure the associated word embeddings are fine-tuned or trained.\n"
     ]
    }
   ],
   "source": [
    "model = [0, { \"value\": WhisperSegmenter( \"model/bengalese-finch-easy-anno-v4/final_checkpoint/\" )}, \"99\"]"
   ]
  },
  {
   "cell_type": "code",
   "execution_count": 16,
   "id": "5f546c95-5226-4ad7-b70f-e591e6fc66d8",
   "metadata": {},
   "outputs": [],
   "source": [
    "segmenter = model[1][\"value\"]"
   ]
  },
  {
   "cell_type": "code",
   "execution_count": 25,
   "id": "8ad36f79-b8f4-42c2-bbef-67a4d6e9b4ae",
   "metadata": {},
   "outputs": [
    {
     "data": {
      "text/plain": [
       "<model.WhisperSegmenter at 0x7fae8512f700>"
      ]
     },
     "execution_count": 25,
     "metadata": {},
     "output_type": "execute_result"
    }
   ],
   "source": [
    "segmenter"
   ]
  },
  {
   "cell_type": "code",
   "execution_count": 17,
   "id": "b5ede800-9481-45b8-950f-3bc6e1b4e0b3",
   "metadata": {},
   "outputs": [
    {
     "name": "stdout",
     "output_type": "stream",
     "text": [
      "Wed Jun 26 09:58:13 2024       \n",
      "+---------------------------------------------------------------------------------------+\n",
      "| NVIDIA-SMI 535.104.05             Driver Version: 535.104.05   CUDA Version: 12.2     |\n",
      "|-----------------------------------------+----------------------+----------------------+\n",
      "| GPU  Name                 Persistence-M | Bus-Id        Disp.A | Volatile Uncorr. ECC |\n",
      "| Fan  Temp   Perf          Pwr:Usage/Cap |         Memory-Usage | GPU-Util  Compute M. |\n",
      "|                                         |                      |               MIG M. |\n",
      "|=========================================+======================+======================|\n",
      "|   0  NVIDIA RTX A6000               Off | 00000000:41:00.0 Off |                  Off |\n",
      "| 30%   35C    P2              74W / 300W |   6478MiB / 49140MiB |      0%      Default |\n",
      "|                                         |                      |                  N/A |\n",
      "+-----------------------------------------+----------------------+----------------------+\n",
      "|   1  NVIDIA RTX A6000               Off | 00000000:C1:00.0 Off |                  Off |\n",
      "| 30%   34C    P8              21W / 300W |     14MiB / 49140MiB |      0%      Default |\n",
      "|                                         |                      |                  N/A |\n",
      "+-----------------------------------------+----------------------+----------------------+\n",
      "                                                                                         \n",
      "+---------------------------------------------------------------------------------------+\n",
      "| Processes:                                                                            |\n",
      "|  GPU   GI   CI        PID   Type   Process name                            GPU Memory |\n",
      "|        ID   ID                                                             Usage      |\n",
      "|=======================================================================================|\n",
      "|    0   N/A  N/A      1126      G   /usr/lib/xorg/Xorg                            9MiB |\n",
      "|    0   N/A  N/A      1355      G   /usr/bin/gnome-shell                          5MiB |\n",
      "|    0   N/A  N/A   3014179      C   python                                     6448MiB |\n",
      "|    1   N/A  N/A      1126      G   /usr/lib/xorg/Xorg                            4MiB |\n",
      "+---------------------------------------------------------------------------------------+\n"
     ]
    }
   ],
   "source": [
    "!nvidia-smi"
   ]
  },
  {
   "cell_type": "code",
   "execution_count": 18,
   "id": "6b6e62ab-8b97-438c-a771-656981fbc844",
   "metadata": {},
   "outputs": [],
   "source": [
    "del model[1]"
   ]
  },
  {
   "cell_type": "code",
   "execution_count": 19,
   "id": "9e326c5f-4865-49e5-a760-2c612ede7c09",
   "metadata": {},
   "outputs": [
    {
     "data": {
      "text/plain": [
       "[0, '99']"
      ]
     },
     "execution_count": 19,
     "metadata": {},
     "output_type": "execute_result"
    }
   ],
   "source": [
    "model"
   ]
  },
  {
   "cell_type": "code",
   "execution_count": 20,
   "id": "62b4d86f-f101-414b-b37b-001499f25ca7",
   "metadata": {},
   "outputs": [
    {
     "name": "stdout",
     "output_type": "stream",
     "text": [
      "Wed Jun 26 09:58:19 2024       \n",
      "+---------------------------------------------------------------------------------------+\n",
      "| NVIDIA-SMI 535.104.05             Driver Version: 535.104.05   CUDA Version: 12.2     |\n",
      "|-----------------------------------------+----------------------+----------------------+\n",
      "| GPU  Name                 Persistence-M | Bus-Id        Disp.A | Volatile Uncorr. ECC |\n",
      "| Fan  Temp   Perf          Pwr:Usage/Cap |         Memory-Usage | GPU-Util  Compute M. |\n",
      "|                                         |                      |               MIG M. |\n",
      "|=========================================+======================+======================|\n",
      "|   0  NVIDIA RTX A6000               Off | 00000000:41:00.0 Off |                  Off |\n",
      "| 30%   36C    P2              66W / 300W |   6478MiB / 49140MiB |      0%      Default |\n",
      "|                                         |                      |                  N/A |\n",
      "+-----------------------------------------+----------------------+----------------------+\n",
      "|   1  NVIDIA RTX A6000               Off | 00000000:C1:00.0 Off |                  Off |\n",
      "| 30%   35C    P8              22W / 300W |     14MiB / 49140MiB |      0%      Default |\n",
      "|                                         |                      |                  N/A |\n",
      "+-----------------------------------------+----------------------+----------------------+\n",
      "                                                                                         \n",
      "+---------------------------------------------------------------------------------------+\n",
      "| Processes:                                                                            |\n",
      "|  GPU   GI   CI        PID   Type   Process name                            GPU Memory |\n",
      "|        ID   ID                                                             Usage      |\n",
      "|=======================================================================================|\n",
      "|    0   N/A  N/A      1126      G   /usr/lib/xorg/Xorg                            9MiB |\n",
      "|    0   N/A  N/A      1355      G   /usr/bin/gnome-shell                          5MiB |\n",
      "|    0   N/A  N/A   3014179      C   python                                     6448MiB |\n",
      "|    1   N/A  N/A      1126      G   /usr/lib/xorg/Xorg                            4MiB |\n",
      "+---------------------------------------------------------------------------------------+\n"
     ]
    }
   ],
   "source": [
    "!nvidia-smi"
   ]
  },
  {
   "cell_type": "code",
   "execution_count": 21,
   "id": "1baeaee3-93e1-4ddd-9b0e-b1fe83961ead",
   "metadata": {},
   "outputs": [
    {
     "data": {
      "text/plain": [
       "21"
      ]
     },
     "execution_count": 21,
     "metadata": {},
     "output_type": "execute_result"
    }
   ],
   "source": [
    "gc.collect()"
   ]
  },
  {
   "cell_type": "code",
   "execution_count": 22,
   "id": "d5247d86-23f8-4f4b-9414-f5c2edd109bd",
   "metadata": {},
   "outputs": [
    {
     "name": "stdout",
     "output_type": "stream",
     "text": [
      "Wed Jun 26 09:58:27 2024       \n",
      "+---------------------------------------------------------------------------------------+\n",
      "| NVIDIA-SMI 535.104.05             Driver Version: 535.104.05   CUDA Version: 12.2     |\n",
      "|-----------------------------------------+----------------------+----------------------+\n",
      "| GPU  Name                 Persistence-M | Bus-Id        Disp.A | Volatile Uncorr. ECC |\n",
      "| Fan  Temp   Perf          Pwr:Usage/Cap |         Memory-Usage | GPU-Util  Compute M. |\n",
      "|                                         |                      |               MIG M. |\n",
      "|=========================================+======================+======================|\n",
      "|   0  NVIDIA RTX A6000               Off | 00000000:41:00.0 Off |                  Off |\n",
      "| 30%   37C    P2              66W / 300W |   6478MiB / 49140MiB |      0%      Default |\n",
      "|                                         |                      |                  N/A |\n",
      "+-----------------------------------------+----------------------+----------------------+\n",
      "|   1  NVIDIA RTX A6000               Off | 00000000:C1:00.0 Off |                  Off |\n",
      "| 30%   34C    P8              21W / 300W |     14MiB / 49140MiB |      0%      Default |\n",
      "|                                         |                      |                  N/A |\n",
      "+-----------------------------------------+----------------------+----------------------+\n",
      "                                                                                         \n",
      "+---------------------------------------------------------------------------------------+\n",
      "| Processes:                                                                            |\n",
      "|  GPU   GI   CI        PID   Type   Process name                            GPU Memory |\n",
      "|        ID   ID                                                             Usage      |\n",
      "|=======================================================================================|\n",
      "|    0   N/A  N/A      1126      G   /usr/lib/xorg/Xorg                            9MiB |\n",
      "|    0   N/A  N/A      1355      G   /usr/bin/gnome-shell                          5MiB |\n",
      "|    0   N/A  N/A   3014179      C   python                                     6448MiB |\n",
      "|    1   N/A  N/A      1126      G   /usr/lib/xorg/Xorg                            4MiB |\n",
      "+---------------------------------------------------------------------------------------+\n"
     ]
    }
   ],
   "source": [
    "!nvidia-smi"
   ]
  },
  {
   "cell_type": "code",
   "execution_count": 23,
   "id": "d1624a2e-d49d-403a-8eeb-1525184f096c",
   "metadata": {},
   "outputs": [],
   "source": [
    "import torch\n",
    "torch.cuda.empty_cache()"
   ]
  },
  {
   "cell_type": "code",
   "execution_count": 24,
   "id": "d786af11-8c8b-4269-a308-eb083cac68b8",
   "metadata": {},
   "outputs": [
    {
     "name": "stdout",
     "output_type": "stream",
     "text": [
      "Wed Jun 26 09:58:30 2024       \n",
      "+---------------------------------------------------------------------------------------+\n",
      "| NVIDIA-SMI 535.104.05             Driver Version: 535.104.05   CUDA Version: 12.2     |\n",
      "|-----------------------------------------+----------------------+----------------------+\n",
      "| GPU  Name                 Persistence-M | Bus-Id        Disp.A | Volatile Uncorr. ECC |\n",
      "| Fan  Temp   Perf          Pwr:Usage/Cap |         Memory-Usage | GPU-Util  Compute M. |\n",
      "|                                         |                      |               MIG M. |\n",
      "|=========================================+======================+======================|\n",
      "|   0  NVIDIA RTX A6000               Off | 00000000:41:00.0 Off |                  Off |\n",
      "| 30%   36C    P8              40W / 300W |   6478MiB / 49140MiB |      0%      Default |\n",
      "|                                         |                      |                  N/A |\n",
      "+-----------------------------------------+----------------------+----------------------+\n",
      "|   1  NVIDIA RTX A6000               Off | 00000000:C1:00.0 Off |                  Off |\n",
      "| 30%   34C    P8              21W / 300W |     14MiB / 49140MiB |      0%      Default |\n",
      "|                                         |                      |                  N/A |\n",
      "+-----------------------------------------+----------------------+----------------------+\n",
      "                                                                                         \n",
      "+---------------------------------------------------------------------------------------+\n",
      "| Processes:                                                                            |\n",
      "|  GPU   GI   CI        PID   Type   Process name                            GPU Memory |\n",
      "|        ID   ID                                                             Usage      |\n",
      "|=======================================================================================|\n",
      "|    0   N/A  N/A      1126      G   /usr/lib/xorg/Xorg                            9MiB |\n",
      "|    0   N/A  N/A      1355      G   /usr/bin/gnome-shell                          5MiB |\n",
      "|    0   N/A  N/A   3014179      C   python                                     6448MiB |\n",
      "|    1   N/A  N/A      1126      G   /usr/lib/xorg/Xorg                            4MiB |\n",
      "+---------------------------------------------------------------------------------------+\n"
     ]
    }
   ],
   "source": [
    "!nvidia-smi"
   ]
  },
  {
   "cell_type": "code",
   "execution_count": 2,
   "id": "66bd6999-944d-4e1a-96e3-9ec2ba8ace87",
   "metadata": {},
   "outputs": [
    {
     "name": "stdout",
     "output_type": "stream",
     "text": [
      "Wed Jun 26 13:20:37 2024       \n",
      "+---------------------------------------------------------------------------------------+\n",
      "| NVIDIA-SMI 535.104.05             Driver Version: 535.104.05   CUDA Version: 12.2     |\n",
      "|-----------------------------------------+----------------------+----------------------+\n",
      "| GPU  Name                 Persistence-M | Bus-Id        Disp.A | Volatile Uncorr. ECC |\n",
      "| Fan  Temp   Perf          Pwr:Usage/Cap |         Memory-Usage | GPU-Util  Compute M. |\n",
      "|                                         |                      |               MIG M. |\n",
      "|=========================================+======================+======================|\n",
      "|   0  NVIDIA RTX A6000               Off | 00000000:41:00.0 Off |                  Off |\n",
      "| 30%   39C    P8              22W / 300W |   3584MiB / 49140MiB |      0%      Default |\n",
      "|                                         |                      |                  N/A |\n",
      "+-----------------------------------------+----------------------+----------------------+\n",
      "|   1  NVIDIA RTX A6000               Off | 00000000:C1:00.0 Off |                  Off |\n",
      "| 30%   35C    P8              21W / 300W |     14MiB / 49140MiB |      0%      Default |\n",
      "|                                         |                      |                  N/A |\n",
      "+-----------------------------------------+----------------------+----------------------+\n",
      "                                                                                         \n",
      "+---------------------------------------------------------------------------------------+\n",
      "| Processes:                                                                            |\n",
      "|  GPU   GI   CI        PID   Type   Process name                            GPU Memory |\n",
      "|        ID   ID                                                             Usage      |\n",
      "|=======================================================================================|\n",
      "|    0   N/A  N/A      1126      G   /usr/lib/xorg/Xorg                            9MiB |\n",
      "|    0   N/A  N/A      1355      G   /usr/bin/gnome-shell                          5MiB |\n",
      "|    0   N/A  N/A   3018546      C   python                                     3554MiB |\n",
      "|    1   N/A  N/A      1126      G   /usr/lib/xorg/Xorg                            4MiB |\n",
      "+---------------------------------------------------------------------------------------+\n",
      "0\n"
     ]
    }
   ],
   "source": [
    "import os\n",
    "print(os.system(\"nvidia-smi\"))"
   ]
  },
  {
   "cell_type": "code",
   "execution_count": 13,
   "id": "35b1f177-b350-4add-91c9-c9631aa71026",
   "metadata": {},
   "outputs": [
    {
     "name": "stdout",
     "output_type": "stream",
     "text": [
      "Requirement already satisfied: pip in /home/nianlong/miniconda3/envs/wseg/lib/python3.10/site-packages (23.3.1)\n",
      "Collecting install\n",
      "  Downloading install-1.3.5-py3-none-any.whl.metadata (925 bytes)\n",
      "Collecting streamlit-elements\n",
      "  Downloading streamlit_elements-0.1.0-py3-none-any.whl.metadata (19 kB)\n",
      "Requirement already satisfied: streamlit>=1.4.0 in /home/nianlong/miniconda3/envs/wseg/lib/python3.10/site-packages (from streamlit-elements) (1.31.1)\n",
      "Requirement already satisfied: altair<6,>=4.0 in /home/nianlong/miniconda3/envs/wseg/lib/python3.10/site-packages (from streamlit>=1.4.0->streamlit-elements) (5.2.0)\n",
      "Requirement already satisfied: blinker<2,>=1.0.0 in /home/nianlong/miniconda3/envs/wseg/lib/python3.10/site-packages (from streamlit>=1.4.0->streamlit-elements) (1.7.0)\n",
      "Requirement already satisfied: cachetools<6,>=4.0 in /home/nianlong/miniconda3/envs/wseg/lib/python3.10/site-packages (from streamlit>=1.4.0->streamlit-elements) (5.3.3)\n",
      "Requirement already satisfied: click<9,>=7.0 in /home/nianlong/miniconda3/envs/wseg/lib/python3.10/site-packages (from streamlit>=1.4.0->streamlit-elements) (8.1.7)\n",
      "Requirement already satisfied: importlib-metadata<8,>=1.4 in /home/nianlong/miniconda3/envs/wseg/lib/python3.10/site-packages (from streamlit>=1.4.0->streamlit-elements) (7.0.1)\n",
      "Requirement already satisfied: numpy<2,>=1.19.3 in /home/nianlong/miniconda3/envs/wseg/lib/python3.10/site-packages (from streamlit>=1.4.0->streamlit-elements) (1.26.4)\n",
      "Requirement already satisfied: packaging<24,>=16.8 in /home/nianlong/miniconda3/envs/wseg/lib/python3.10/site-packages (from streamlit>=1.4.0->streamlit-elements) (23.2)\n",
      "Requirement already satisfied: pandas<3,>=1.3.0 in /home/nianlong/miniconda3/envs/wseg/lib/python3.10/site-packages (from streamlit>=1.4.0->streamlit-elements) (2.2.1)\n",
      "Requirement already satisfied: pillow<11,>=7.1.0 in /home/nianlong/miniconda3/envs/wseg/lib/python3.10/site-packages (from streamlit>=1.4.0->streamlit-elements) (10.2.0)\n",
      "Requirement already satisfied: protobuf<5,>=3.20 in /home/nianlong/miniconda3/envs/wseg/lib/python3.10/site-packages (from streamlit>=1.4.0->streamlit-elements) (4.25.3)\n",
      "Requirement already satisfied: pyarrow>=7.0 in /home/nianlong/miniconda3/envs/wseg/lib/python3.10/site-packages (from streamlit>=1.4.0->streamlit-elements) (15.0.0)\n",
      "Requirement already satisfied: python-dateutil<3,>=2.7.3 in /home/nianlong/miniconda3/envs/wseg/lib/python3.10/site-packages (from streamlit>=1.4.0->streamlit-elements) (2.9.0.post0)\n",
      "Requirement already satisfied: requests<3,>=2.27 in /home/nianlong/miniconda3/envs/wseg/lib/python3.10/site-packages (from streamlit>=1.4.0->streamlit-elements) (2.31.0)\n",
      "Requirement already satisfied: rich<14,>=10.14.0 in /home/nianlong/miniconda3/envs/wseg/lib/python3.10/site-packages (from streamlit>=1.4.0->streamlit-elements) (13.7.1)\n",
      "Requirement already satisfied: tenacity<9,>=8.1.0 in /home/nianlong/miniconda3/envs/wseg/lib/python3.10/site-packages (from streamlit>=1.4.0->streamlit-elements) (8.2.3)\n",
      "Requirement already satisfied: toml<2,>=0.10.1 in /home/nianlong/miniconda3/envs/wseg/lib/python3.10/site-packages (from streamlit>=1.4.0->streamlit-elements) (0.10.2)\n",
      "Requirement already satisfied: typing-extensions<5,>=4.3.0 in /home/nianlong/miniconda3/envs/wseg/lib/python3.10/site-packages (from streamlit>=1.4.0->streamlit-elements) (4.10.0)\n",
      "Requirement already satisfied: tzlocal<6,>=1.1 in /home/nianlong/miniconda3/envs/wseg/lib/python3.10/site-packages (from streamlit>=1.4.0->streamlit-elements) (5.2)\n",
      "Requirement already satisfied: validators<1,>=0.2 in /home/nianlong/miniconda3/envs/wseg/lib/python3.10/site-packages (from streamlit>=1.4.0->streamlit-elements) (0.22.0)\n",
      "Requirement already satisfied: gitpython!=3.1.19,<4,>=3.0.7 in /home/nianlong/miniconda3/envs/wseg/lib/python3.10/site-packages (from streamlit>=1.4.0->streamlit-elements) (3.1.42)\n",
      "Requirement already satisfied: pydeck<1,>=0.8.0b4 in /home/nianlong/miniconda3/envs/wseg/lib/python3.10/site-packages (from streamlit>=1.4.0->streamlit-elements) (0.8.1b0)\n",
      "Requirement already satisfied: tornado<7,>=6.0.3 in /home/nianlong/miniconda3/envs/wseg/lib/python3.10/site-packages (from streamlit>=1.4.0->streamlit-elements) (6.4)\n",
      "Requirement already satisfied: watchdog>=2.1.5 in /home/nianlong/miniconda3/envs/wseg/lib/python3.10/site-packages (from streamlit>=1.4.0->streamlit-elements) (4.0.0)\n",
      "Requirement already satisfied: jinja2 in /home/nianlong/miniconda3/envs/wseg/lib/python3.10/site-packages (from altair<6,>=4.0->streamlit>=1.4.0->streamlit-elements) (3.1.3)\n",
      "Requirement already satisfied: jsonschema>=3.0 in /home/nianlong/miniconda3/envs/wseg/lib/python3.10/site-packages (from altair<6,>=4.0->streamlit>=1.4.0->streamlit-elements) (4.21.1)\n",
      "Requirement already satisfied: toolz in /home/nianlong/miniconda3/envs/wseg/lib/python3.10/site-packages (from altair<6,>=4.0->streamlit>=1.4.0->streamlit-elements) (0.12.1)\n",
      "Requirement already satisfied: gitdb<5,>=4.0.1 in /home/nianlong/miniconda3/envs/wseg/lib/python3.10/site-packages (from gitpython!=3.1.19,<4,>=3.0.7->streamlit>=1.4.0->streamlit-elements) (4.0.11)\n",
      "Requirement already satisfied: zipp>=0.5 in /home/nianlong/miniconda3/envs/wseg/lib/python3.10/site-packages (from importlib-metadata<8,>=1.4->streamlit>=1.4.0->streamlit-elements) (3.17.0)\n",
      "Requirement already satisfied: pytz>=2020.1 in /home/nianlong/miniconda3/envs/wseg/lib/python3.10/site-packages (from pandas<3,>=1.3.0->streamlit>=1.4.0->streamlit-elements) (2024.1)\n",
      "Requirement already satisfied: tzdata>=2022.7 in /home/nianlong/miniconda3/envs/wseg/lib/python3.10/site-packages (from pandas<3,>=1.3.0->streamlit>=1.4.0->streamlit-elements) (2024.1)\n",
      "Requirement already satisfied: six>=1.5 in /home/nianlong/miniconda3/envs/wseg/lib/python3.10/site-packages (from python-dateutil<3,>=2.7.3->streamlit>=1.4.0->streamlit-elements) (1.16.0)\n",
      "Requirement already satisfied: charset-normalizer<4,>=2 in /home/nianlong/miniconda3/envs/wseg/lib/python3.10/site-packages (from requests<3,>=2.27->streamlit>=1.4.0->streamlit-elements) (3.3.2)\n",
      "Requirement already satisfied: idna<4,>=2.5 in /home/nianlong/miniconda3/envs/wseg/lib/python3.10/site-packages (from requests<3,>=2.27->streamlit>=1.4.0->streamlit-elements) (3.6)\n",
      "Requirement already satisfied: urllib3<3,>=1.21.1 in /home/nianlong/miniconda3/envs/wseg/lib/python3.10/site-packages (from requests<3,>=2.27->streamlit>=1.4.0->streamlit-elements) (2.2.1)\n",
      "Requirement already satisfied: certifi>=2017.4.17 in /home/nianlong/miniconda3/envs/wseg/lib/python3.10/site-packages (from requests<3,>=2.27->streamlit>=1.4.0->streamlit-elements) (2024.2.2)\n",
      "Requirement already satisfied: markdown-it-py>=2.2.0 in /home/nianlong/miniconda3/envs/wseg/lib/python3.10/site-packages (from rich<14,>=10.14.0->streamlit>=1.4.0->streamlit-elements) (3.0.0)\n",
      "Requirement already satisfied: pygments<3.0.0,>=2.13.0 in /home/nianlong/miniconda3/envs/wseg/lib/python3.10/site-packages (from rich<14,>=10.14.0->streamlit>=1.4.0->streamlit-elements) (2.17.2)\n",
      "Requirement already satisfied: smmap<6,>=3.0.1 in /home/nianlong/miniconda3/envs/wseg/lib/python3.10/site-packages (from gitdb<5,>=4.0.1->gitpython!=3.1.19,<4,>=3.0.7->streamlit>=1.4.0->streamlit-elements) (5.0.1)\n",
      "Requirement already satisfied: MarkupSafe>=2.0 in /home/nianlong/miniconda3/envs/wseg/lib/python3.10/site-packages (from jinja2->altair<6,>=4.0->streamlit>=1.4.0->streamlit-elements) (2.1.5)\n",
      "Requirement already satisfied: attrs>=22.2.0 in /home/nianlong/miniconda3/envs/wseg/lib/python3.10/site-packages (from jsonschema>=3.0->altair<6,>=4.0->streamlit>=1.4.0->streamlit-elements) (23.2.0)\n",
      "Requirement already satisfied: jsonschema-specifications>=2023.03.6 in /home/nianlong/miniconda3/envs/wseg/lib/python3.10/site-packages (from jsonschema>=3.0->altair<6,>=4.0->streamlit>=1.4.0->streamlit-elements) (2023.12.1)\n",
      "Requirement already satisfied: referencing>=0.28.4 in /home/nianlong/miniconda3/envs/wseg/lib/python3.10/site-packages (from jsonschema>=3.0->altair<6,>=4.0->streamlit>=1.4.0->streamlit-elements) (0.33.0)\n",
      "Requirement already satisfied: rpds-py>=0.7.1 in /home/nianlong/miniconda3/envs/wseg/lib/python3.10/site-packages (from jsonschema>=3.0->altair<6,>=4.0->streamlit>=1.4.0->streamlit-elements) (0.18.0)\n",
      "Requirement already satisfied: mdurl~=0.1 in /home/nianlong/miniconda3/envs/wseg/lib/python3.10/site-packages (from markdown-it-py>=2.2.0->rich<14,>=10.14.0->streamlit>=1.4.0->streamlit-elements) (0.1.2)\n",
      "Downloading install-1.3.5-py3-none-any.whl (3.2 kB)\n",
      "Downloading streamlit_elements-0.1.0-py3-none-any.whl (7.8 MB)\n",
      "\u001b[2K   \u001b[90m━━━━━━━━━━━━━━━━━━━━━━━━━━━━━━━━━━━━━━━━\u001b[0m \u001b[32m7.8/7.8 MB\u001b[0m \u001b[31m63.6 MB/s\u001b[0m eta \u001b[36m0:00:00\u001b[0m00:01\u001b[0m00:01\u001b[0m\n",
      "\u001b[?25hInstalling collected packages: install, streamlit-elements\n",
      "Successfully installed install-1.3.5 streamlit-elements-0.1.0\n"
     ]
    }
   ],
   "source": [
    "!pip install pip install streamlit-elements"
   ]
  },
  {
   "cell_type": "code",
   "execution_count": 11,
   "id": "e1077e57-32d7-48d2-9121-01495a484493",
   "metadata": {},
   "outputs": [
    {
     "data": {
      "text/plain": [
       "['/', '\\\\?']"
      ]
     },
     "execution_count": 11,
     "metadata": {},
     "output_type": "execute_result"
    }
   ],
   "source": [
    "import re\n",
    "list(set(re.findall(\"[^a-zA-Z0-9\\-\\_]+\", \"sferwf_dwf/fwrf\\\\?\")))"
   ]
  },
  {
   "cell_type": "code",
   "execution_count": 14,
   "id": "435ead33-04bf-40ca-ac0e-cd597ea86c2a",
   "metadata": {},
   "outputs": [],
   "source": [
    "from streamlit_elements import elements, mui"
   ]
  },
  {
   "cell_type": "code",
   "execution_count": 15,
   "id": "4cd9b777-bf3a-42be-acfa-bc733e3203a1",
   "metadata": {},
   "outputs": [
    {
     "data": {
      "text/plain": [
       "[PosixPath('model/whisperseg-base-bange'),\n",
       " PosixPath('model/new-whisper'),\n",
       " PosixPath('model/real-whisperseg'),\n",
       " PosixPath('model/hahah-model'),\n",
       " PosixPath('model/hahahha-xx')]"
      ]
     },
     "execution_count": 15,
     "metadata": {},
     "output_type": "execute_result"
    }
   ],
   "source": [
    "import os\n",
    "from pathlib import Path\n",
    "\n",
    "# Specify the directory to sort\n",
    "directory_path = \"model/\"\n",
    "\n",
    "# Using pathlib\n",
    "files_and_folders = Path(directory_path).glob('*')  # This gets all files and directories\n",
    "sorted_by_creation_time = sorted(files_and_folders, key=lambda x: x.stat().st_ctime)\n",
    "sorted_by_creation_time"
   ]
  },
  {
   "cell_type": "code",
   "execution_count": 17,
   "id": "d57fb301-00af-433d-ba78-9aa7ec985ef5",
   "metadata": {},
   "outputs": [
    {
     "data": {
      "text/plain": [
       "'whisperseg-base-bange'"
      ]
     },
     "execution_count": 17,
     "metadata": {},
     "output_type": "execute_result"
    }
   ],
   "source": [
    "os.path.basename(str(sorted_by_creation_time[0]))"
   ]
  },
  {
   "cell_type": "code",
   "execution_count": null,
   "id": "660c643d-c581-49e7-9328-0d0f17f93be8",
   "metadata": {},
   "outputs": [],
   "source": []
  }
 ],
 "metadata": {
  "kernelspec": {
   "display_name": "Python [conda env:wseg]",
   "language": "python",
   "name": "conda-env-wseg-py"
  },
  "language_info": {
   "codemirror_mode": {
    "name": "ipython",
    "version": 3
   },
   "file_extension": ".py",
   "mimetype": "text/x-python",
   "name": "python",
   "nbconvert_exporter": "python",
   "pygments_lexer": "ipython3",
   "version": "3.10.13"
  }
 },
 "nbformat": 4,
 "nbformat_minor": 5
}
