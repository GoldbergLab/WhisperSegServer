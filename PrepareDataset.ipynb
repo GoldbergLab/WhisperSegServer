{
 "cells": [
  {
   "cell_type": "markdown",
   "id": "b2aaf7fb-ebaf-44e9-92e9-810d302bffcd",
   "metadata": {},
   "source": [
    "Note: This is a script for preparing the dataset. Runnning this script requires a animal call database.\n",
    "Therefore, this script is only for internal debugging purpose. You can create the training / test dataset using your own way."
   ]
  },
  {
   "cell_type": "code",
   "execution_count": 1,
   "id": "0d51632d-c982-42dc-9923-4683a75bbf3d",
   "metadata": {
    "tags": []
   },
   "outputs": [],
   "source": [
    "import os,sys,inspect\n",
    "sys.path.insert(0, os.path.dirname(os.getcwd()) )\n",
    "from database_manager import WavDB\n",
    "import shutil\n",
    "from tqdm import tqdm\n",
    "import pandas as pd\n",
    "import numpy as np"
   ]
  },
  {
   "cell_type": "code",
   "execution_count": 2,
   "id": "adac36f2-dceb-4007-a1e6-6aa2c86aacc1",
   "metadata": {
    "tags": []
   },
   "outputs": [],
   "source": [
    "db_path = \"../../data/database/DB.splite\"\n",
    "archive_folder = \"../../data/database/archive/\"\n",
    "wav_db = WavDB( db_path = db_path, archive_folder = archive_folder)"
   ]
  },
  {
   "cell_type": "code",
   "execution_count": 3,
   "id": "7e9b1518-83b0-437b-9836-f88147057863",
   "metadata": {
    "tags": []
   },
   "outputs": [],
   "source": [
    "# !rm -r data"
   ]
  },
  {
   "cell_type": "code",
   "execution_count": 4,
   "id": "fd7fd1d9-8ecf-4cba-9bf1-b9c6c85c28f6",
   "metadata": {
    "tags": []
   },
   "outputs": [
    {
     "name": "stderr",
     "output_type": "stream",
     "text": [
      "100%|███████████████████████████████████████████████████████| 14/14 [00:00<00:00, 468.23it/s]\n"
     ]
    }
   ],
   "source": [
    "dataset_folder = \"data/DAS_zebra_finch/train\"\n",
    "os.makedirs(dataset_folder)\n",
    "audio_path_list, label_path_list = wav_db.get_audio_and_label_paths( \n",
    "     ( \"collection=='DAS_zebra_finch' AND train_or_test=='train'\", [] )  )\n",
    "\n",
    "for audio_path, csv_path in tqdm(zip(audio_path_list, label_path_list), total=len(audio_path_list)):\n",
    "    assert audio_path.endswith(\".wav\") and csv_path.endswith(\".csv\")\n",
    "    shutil.copy( audio_path, dataset_folder+\"/\"  )\n",
    "    shutil.copy( csv_path, dataset_folder+\"/\"  )\n",
    "    \n",
    "    csv_basename = os.path.basename( csv_path )\n",
    "    target_csv_path = dataset_folder + \"/\" + csv_basename\n",
    "    label_df = pd.read_csv( target_csv_path )\n",
    "    onset = np.array(label_df[\"onset\"])\n",
    "    duration = np.array(label_df[\"duration\"])\n",
    "    offset = onset + duration\n",
    "    pd.DataFrame(\n",
    "            {\"onset\":onset,\n",
    "            \"offset\":offset}\n",
    "    ).to_csv( target_csv_path, index = False )"
   ]
  },
  {
   "cell_type": "code",
   "execution_count": 5,
   "id": "b974d6e3-9c3c-4a0b-8167-28359646cf7f",
   "metadata": {
    "tags": []
   },
   "outputs": [
    {
     "name": "stderr",
     "output_type": "stream",
     "text": [
      "100%|█████████████████████████████████████████████████████████| 2/2 [00:00<00:00, 423.30it/s]\n"
     ]
    }
   ],
   "source": [
    "dataset_folder = \"data/DAS_zebra_finch/test\"\n",
    "os.makedirs(dataset_folder)\n",
    "audio_path_list, label_path_list = wav_db.get_audio_and_label_paths( \n",
    "     ( \"collection=='DAS_zebra_finch' AND train_or_test=='test'\", [] )  )\n",
    "\n",
    "for audio_path, csv_path in tqdm(zip(audio_path_list, label_path_list), total=len(audio_path_list)):\n",
    "    assert audio_path.endswith(\".wav\") and csv_path.endswith(\".csv\")\n",
    "    shutil.copy( audio_path, dataset_folder+\"/\" )\n",
    "    shutil.copy( csv_path, dataset_folder+\"/\" )\n",
    "    \n",
    "    csv_basename = os.path.basename( csv_path )\n",
    "    target_csv_path = dataset_folder + \"/\" + csv_basename\n",
    "    label_df = pd.read_csv( target_csv_path )\n",
    "    onset = np.array(label_df[\"onset\"])\n",
    "    duration = np.array(label_df[\"duration\"])\n",
    "    offset = onset + duration\n",
    "    pd.DataFrame(\n",
    "            {\"onset\":onset,\n",
    "            \"offset\":offset}\n",
    "    ).to_csv( target_csv_path, index = False )"
   ]
  },
  {
   "cell_type": "code",
   "execution_count": 6,
   "id": "9324ec98-8561-46c5-835d-55001e398b31",
   "metadata": {
    "tags": []
   },
   "outputs": [
    {
     "name": "stderr",
     "output_type": "stream",
     "text": [
      "100%|█████████████████████████████████████████████████████████| 5/5 [00:00<00:00, 503.68it/s]\n"
     ]
    }
   ],
   "source": [
    "dataset_folder = \"data/R3406_045/test\"\n",
    "os.makedirs(dataset_folder)\n",
    "audio_path_list, label_path_list = wav_db.get_audio_and_label_paths( \n",
    "     ( \"collection=='zebseg' AND participant_name=='R3406' AND participant_age=='045' AND train_or_test=='test'\", [] )  )\n",
    "\n",
    "for audio_path, csv_path in tqdm(zip(audio_path_list, label_path_list), total=len(audio_path_list)):\n",
    "    assert audio_path.endswith(\".wav\") and csv_path.endswith(\".csv\")\n",
    "    shutil.copy( audio_path, dataset_folder+\"/\" )\n",
    "    shutil.copy( csv_path, dataset_folder+\"/\" )\n",
    "    \n",
    "    csv_basename = os.path.basename( csv_path )\n",
    "    target_csv_path = dataset_folder + \"/\" + csv_basename\n",
    "    label_df = pd.read_csv( target_csv_path )\n",
    "    onset = np.array(label_df[\"onset\"])\n",
    "    duration = np.array(label_df[\"duration\"])\n",
    "    offset = onset + duration\n",
    "    pd.DataFrame(\n",
    "            {\"onset\":onset,\n",
    "            \"offset\":offset}\n",
    "    ).to_csv( target_csv_path, index = False )"
   ]
  },
  {
   "cell_type": "code",
   "execution_count": 7,
   "id": "3e6dfd64-9a13-4e66-affb-0d3e8ec773b8",
   "metadata": {
    "tags": []
   },
   "outputs": [
    {
     "name": "stderr",
     "output_type": "stream",
     "text": [
      "100%|█████████████████████████████████████████████████████████| 1/1 [00:00<00:00, 437.27it/s]\n"
     ]
    }
   ],
   "source": [
    "dataset_folder = \"data/R3406_035/test\"\n",
    "os.makedirs(dataset_folder)\n",
    "audio_path_list, label_path_list = wav_db.get_audio_and_label_paths( \n",
    "     ( \"collection=='zebseg' AND participant_name=='R3406' AND participant_age=='035' AND train_or_test=='test'\", [] )  )\n",
    "\n",
    "for audio_path, csv_path in tqdm(zip(audio_path_list, label_path_list), total=len(audio_path_list)):\n",
    "    assert audio_path.endswith(\".wav\") and csv_path.endswith(\".csv\")\n",
    "    shutil.copy( audio_path, dataset_folder+\"/\" )\n",
    "    shutil.copy( csv_path, dataset_folder+\"/\" )\n",
    "    \n",
    "    csv_basename = os.path.basename( csv_path )\n",
    "    target_csv_path = dataset_folder + \"/\" + csv_basename\n",
    "    label_df = pd.read_csv( target_csv_path )\n",
    "    onset = np.array(label_df[\"onset\"])\n",
    "    duration = np.array(label_df[\"duration\"])\n",
    "    offset = onset + duration\n",
    "    pd.DataFrame(\n",
    "            {\"onset\":onset,\n",
    "            \"offset\":offset}\n",
    "    ).to_csv( target_csv_path, index = False )"
   ]
  },
  {
   "cell_type": "code",
   "execution_count": null,
   "id": "41768576-a11e-4547-9090-779a9b23f8b0",
   "metadata": {},
   "outputs": [],
   "source": []
  },
  {
   "cell_type": "code",
   "execution_count": 3,
   "id": "808a3c6e-ee84-416b-9ea7-570d21a5ed38",
   "metadata": {},
   "outputs": [
    {
     "name": "stderr",
     "output_type": "stream",
     "text": [
      "100%|███████████████████████████████████████████████████| 2606/2606 [00:04<00:00, 591.19it/s]\n"
     ]
    }
   ],
   "source": [
    "dataset_folder = \"data/zebseg_all_birds/train\"\n",
    "os.makedirs(dataset_folder)\n",
    "audio_path_list, label_path_list = wav_db.get_audio_and_label_paths( \n",
    "     ( \"collection=='zebseg' AND train_or_test=='train'\", [] )  )\n",
    "\n",
    "for audio_path, csv_path in tqdm(zip(audio_path_list, label_path_list), total=len(audio_path_list)):\n",
    "    assert audio_path.endswith(\".wav\") and csv_path.endswith(\".csv\")\n",
    "    shutil.copy( audio_path, dataset_folder+\"/\"  )\n",
    "    shutil.copy( csv_path, dataset_folder+\"/\"  )\n",
    "    \n",
    "    csv_basename = os.path.basename( csv_path )\n",
    "    target_csv_path = dataset_folder + \"/\" + csv_basename\n",
    "    label_df = pd.read_csv( target_csv_path )\n",
    "    onset = np.array(label_df[\"onset\"])\n",
    "    duration = np.array(label_df[\"duration\"])\n",
    "    offset = onset + duration\n",
    "    pd.DataFrame(\n",
    "            {\"onset\":onset,\n",
    "            \"offset\":offset}\n",
    "    ).to_csv( target_csv_path, index = False )"
   ]
  },
  {
   "cell_type": "code",
   "execution_count": 4,
   "id": "75692a4b-7841-41b8-8c01-1bc7dcb8f567",
   "metadata": {
    "tags": []
   },
   "outputs": [
    {
     "name": "stderr",
     "output_type": "stream",
     "text": [
      "100%|█████████████████████████████████████████████████████| 283/283 [00:00<00:00, 601.87it/s]\n"
     ]
    }
   ],
   "source": [
    "dataset_folder = \"data/zebseg_all_birds/test\"\n",
    "os.makedirs(dataset_folder)\n",
    "audio_path_list, label_path_list = wav_db.get_audio_and_label_paths( \n",
    "     ( \"collection=='zebseg' AND train_or_test=='test'\", [] )  )\n",
    "\n",
    "for audio_path, csv_path in tqdm(zip(audio_path_list, label_path_list), total=len(audio_path_list)):\n",
    "    assert audio_path.endswith(\".wav\") and csv_path.endswith(\".csv\")\n",
    "    shutil.copy( audio_path, dataset_folder+\"/\"  )\n",
    "    shutil.copy( csv_path, dataset_folder+\"/\"  )\n",
    "    \n",
    "    csv_basename = os.path.basename( csv_path )\n",
    "    target_csv_path = dataset_folder + \"/\" + csv_basename\n",
    "    label_df = pd.read_csv( target_csv_path )\n",
    "    onset = np.array(label_df[\"onset\"])\n",
    "    duration = np.array(label_df[\"duration\"])\n",
    "    offset = onset + duration\n",
    "    pd.DataFrame(\n",
    "            {\"onset\":onset,\n",
    "            \"offset\":offset}\n",
    "    ).to_csv( target_csv_path, index = False )"
   ]
  },
  {
   "cell_type": "code",
   "execution_count": null,
   "id": "7e027bb0-e9a4-40ce-8673-e63230f7cb9f",
   "metadata": {},
   "outputs": [],
   "source": []
  },
  {
   "cell_type": "code",
   "execution_count": 3,
   "id": "792d50ca-4694-49a9-b16e-52ab1dca5cbd",
   "metadata": {
    "tags": []
   },
   "outputs": [
    {
     "name": "stderr",
     "output_type": "stream",
     "text": [
      "100%|██████████████████████████████████████████| 84/84 [00:00<00:00, 353.32it/s]\n"
     ]
    }
   ],
   "source": [
    "dataset_folder = \"data/zebseg_all_juvenile_birds/test\"\n",
    "os.makedirs(dataset_folder)\n",
    "audio_path_list, label_path_list = wav_db.get_audio_and_label_paths( \n",
    "     ( \"collection=='zebseg' AND participant_age!='' AND train_or_test=='test'\", [] )  )\n",
    "\n",
    "for audio_path, csv_path in tqdm(zip(audio_path_list, label_path_list), total=len(audio_path_list)):\n",
    "    assert audio_path.endswith(\".wav\") and csv_path.endswith(\".csv\")\n",
    "    shutil.copy( audio_path, dataset_folder+\"/\"  )\n",
    "    shutil.copy( csv_path, dataset_folder+\"/\"  )\n",
    "    \n",
    "    csv_basename = os.path.basename( csv_path )\n",
    "    target_csv_path = dataset_folder + \"/\" + csv_basename\n",
    "    label_df = pd.read_csv( target_csv_path )\n",
    "    onset = np.array(label_df[\"onset\"])\n",
    "    duration = np.array(label_df[\"duration\"])\n",
    "    offset = onset + duration\n",
    "    pd.DataFrame(\n",
    "            {\"onset\":onset,\n",
    "            \"offset\":offset}\n",
    "    ).to_csv( target_csv_path, index = False )"
   ]
  },
  {
   "cell_type": "code",
   "execution_count": 6,
   "id": "af274007-8f89-433c-9ee3-3c7a3f4662db",
   "metadata": {
    "tags": []
   },
   "outputs": [
    {
     "name": "stderr",
     "output_type": "stream",
     "text": [
      "100%|██████████████████████████████████████████████████████████| 4/4 [00:00<00:00, 19.67it/s]\n"
     ]
    }
   ],
   "source": [
    "# dataset_folder = \"data/meerkat/\"\n",
    "# os.makedirs(dataset_folder)\n",
    "audio_path_list, label_path_list = wav_db.get_audio_and_label_paths( \n",
    "     ( \"collection=='NCCR_vocal_seg' AND species=='meerkat' AND annotation_file_name!='' AND train_or_test=='test'\", [] )  )\n",
    "\n",
    "for audio_path, csv_path in tqdm(zip(audio_path_list, label_path_list), total=len(audio_path_list)):\n",
    "    assert audio_path.endswith(\".wav\") and csv_path.endswith(\".csv\")\n",
    "    shutil.copy( audio_path, dataset_folder+\"/\"  )\n",
    "    shutil.copy( csv_path, dataset_folder+\"/\"  )\n",
    "    \n",
    "    csv_basename = os.path.basename( csv_path )\n",
    "    target_csv_path = dataset_folder + \"/\" + csv_basename\n",
    "    label_df = pd.read_csv( target_csv_path )\n",
    "    onset = np.array(label_df[\"onset\"])\n",
    "    duration = np.array(label_df[\"duration\"])\n",
    "    offset = onset + duration\n",
    "    pd.DataFrame(\n",
    "            {\"onset\":onset,\n",
    "            \"offset\":offset}\n",
    "    ).to_csv( target_csv_path, index = False )"
   ]
  },
  {
   "cell_type": "code",
   "execution_count": null,
   "id": "a1d697bd-72af-42bf-81b9-98ddc6cf8772",
   "metadata": {},
   "outputs": [],
   "source": []
  }
 ],
 "metadata": {
  "kernelspec": {
   "display_name": "Python 3 (ipykernel)",
   "language": "python",
   "name": "python3"
  },
  "language_info": {
   "codemirror_mode": {
    "name": "ipython",
    "version": 3
   },
   "file_extension": ".py",
   "mimetype": "text/x-python",
   "name": "python",
   "nbconvert_exporter": "python",
   "pygments_lexer": "ipython3",
   "version": "3.9.16"
  }
 },
 "nbformat": 4,
 "nbformat_minor": 5
}
