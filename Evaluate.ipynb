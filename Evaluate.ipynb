{
 "cells": [
  {
   "cell_type": "code",
   "execution_count": 1,
   "id": "5faa94a4-6590-4aa2-b04e-c2fbb68556c1",
   "metadata": {
    "tags": []
   },
   "outputs": [],
   "source": [
    "from model import WhisperSegmenter, WhisperSegmenterFast\n",
    "import librosa\n",
    "import pandas as pd\n",
    "import numpy as np\n",
    "from tqdm import tqdm\n",
    "from copy import deepcopy\n",
    "from train import validate\n",
    "from datautils import get_audio_and_label_paths\n",
    "import os"
   ]
  },
  {
   "cell_type": "code",
   "execution_count": 2,
   "id": "0e7600a8-a69a-4dad-9761-17bf48236ffc",
   "metadata": {
    "tags": []
   },
   "outputs": [],
   "source": [
    "segmenter = WhisperSegmenter(  model_path = \"nccratliri/whisperseg-zebra-finch\", \n",
    "                        device = \"cuda\")"
   ]
  },
  {
   "cell_type": "code",
   "execution_count": 3,
   "id": "073c2be6-1855-4171-8ace-9e15b9c27fd1",
   "metadata": {
    "tags": []
   },
   "outputs": [],
   "source": [
    "fname_list = sorted( [fname for fname in os.listdir(\"data/dataset/zebseg/\") if fname != \"all_birds\"] )"
   ]
  },
  {
   "cell_type": "code",
   "execution_count": 4,
   "id": "16f413b3-5327-46be-b402-218e0345ebaa",
   "metadata": {
    "tags": []
   },
   "outputs": [
    {
     "name": "stderr",
     "output_type": "stream",
     "text": [
      "100%|██████████████████████████████████████████████████████████| 1/1 [00:04<00:00,  4.09s/it]\n"
     ]
    },
    {
     "name": "stdout",
     "output_type": "stream",
     "text": [
      "R3406_035:\t (1.0, 1.0, 1.0, 17, 17, 17)\n"
     ]
    },
    {
     "name": "stderr",
     "output_type": "stream",
     "text": [
      "100%|██████████████████████████████████████████████████████████| 5/5 [00:07<00:00,  1.40s/it]\n"
     ]
    },
    {
     "name": "stdout",
     "output_type": "stream",
     "text": [
      "R3406_045:\t (1.0, 1.0, 1.0, 4, 4, 4)\n"
     ]
    },
    {
     "name": "stderr",
     "output_type": "stream",
     "text": [
      "100%|████████████████████████████████████████████████████████| 19/19 [00:29<00:00,  1.56s/it]\n"
     ]
    },
    {
     "name": "stdout",
     "output_type": "stream",
     "text": [
      "R3406_055:\t (0.9583333333333334, 1.0, 0.978723404255319, 23, 24, 23)\n"
     ]
    },
    {
     "name": "stderr",
     "output_type": "stream",
     "text": [
      "100%|██████████████████████████████████████████████████████████| 4/4 [00:11<00:00,  2.87s/it]\n"
     ]
    },
    {
     "name": "stdout",
     "output_type": "stream",
     "text": [
      "R3428_039:\t (0.9605263157894737, 0.9605263157894737, 0.9605263157894738, 73, 76, 76)\n"
     ]
    },
    {
     "name": "stderr",
     "output_type": "stream",
     "text": [
      "100%|██████████████████████████████████████████████████████████| 3/3 [00:14<00:00,  4.96s/it]\n"
     ]
    },
    {
     "name": "stdout",
     "output_type": "stream",
     "text": [
      "R3428_049:\t (0.968, 0.9918032786885246, 0.9797570850202428, 121, 125, 122)\n"
     ]
    },
    {
     "name": "stderr",
     "output_type": "stream",
     "text": [
      "100%|████████████████████████████████████████████████████████| 28/28 [00:56<00:00,  2.01s/it]\n"
     ]
    },
    {
     "name": "stdout",
     "output_type": "stream",
     "text": [
      "R3428_059:\t (0.9790209790209791, 0.9722222222222222, 0.9756097560975611, 280, 286, 288)\n"
     ]
    },
    {
     "name": "stderr",
     "output_type": "stream",
     "text": [
      "100%|██████████████████████████████████████████████████████████| 5/5 [00:06<00:00,  1.25s/it]\n"
     ]
    },
    {
     "name": "stdout",
     "output_type": "stream",
     "text": [
      "R3549_043:\t (0.8333333333333334, 0.7894736842105263, 0.8108108108108107, 15, 18, 19)\n"
     ]
    },
    {
     "name": "stderr",
     "output_type": "stream",
     "text": [
      "100%|██████████████████████████████████████████████████████████| 4/4 [00:10<00:00,  2.64s/it]\n"
     ]
    },
    {
     "name": "stdout",
     "output_type": "stream",
     "text": [
      "R3549_053:\t (0.9753086419753086, 0.9875, 0.9813664596273293, 79, 81, 80)\n"
     ]
    },
    {
     "name": "stderr",
     "output_type": "stream",
     "text": [
      "100%|██████████████████████████████████████████████████████████| 7/7 [00:17<00:00,  2.56s/it]\n"
     ]
    },
    {
     "name": "stdout",
     "output_type": "stream",
     "text": [
      "R3549_063:\t (0.972972972972973, 0.9391304347826087, 0.9557522123893806, 108, 111, 115)\n"
     ]
    },
    {
     "name": "stderr",
     "output_type": "stream",
     "text": [
      "100%|██████████████████████████████████████████████████████████| 5/5 [00:22<00:00,  4.57s/it]\n"
     ]
    },
    {
     "name": "stdout",
     "output_type": "stream",
     "text": [
      "R3625_045:\t (0.9942528735632183, 0.9885714285714285, 0.9914040114613178, 173, 174, 175)\n"
     ]
    },
    {
     "name": "stderr",
     "output_type": "stream",
     "text": [
      "100%|██████████████████████████████████████████████████████████| 2/2 [00:05<00:00,  2.66s/it]\n"
     ]
    },
    {
     "name": "stdout",
     "output_type": "stream",
     "text": [
      "R3625_055:\t (1.0, 0.98, 0.98989898989899, 49, 49, 50)\n"
     ]
    },
    {
     "name": "stderr",
     "output_type": "stream",
     "text": [
      "100%|██████████████████████████████████████████████████████████| 1/1 [00:04<00:00,  4.85s/it]\n"
     ]
    },
    {
     "name": "stdout",
     "output_type": "stream",
     "text": [
      "R3625_065:\t (1.0, 0.9090909090909091, 0.9523809523809523, 10, 10, 11)\n"
     ]
    },
    {
     "name": "stderr",
     "output_type": "stream",
     "text": [
      "100%|████████████████████████████████████████████████████████| 99/99 [02:21<00:00,  1.43s/it]\n"
     ]
    },
    {
     "name": "stdout",
     "output_type": "stream",
     "text": [
      "g17y2:\t (0.9980334316617503, 0.9980334316617503, 0.9980334316617503, 1015, 1017, 1017)\n"
     ]
    },
    {
     "name": "stderr",
     "output_type": "stream",
     "text": [
      "100%|██████████████████████████████████████████████████████████| 8/8 [00:19<00:00,  2.44s/it]\n"
     ]
    },
    {
     "name": "stdout",
     "output_type": "stream",
     "text": [
      "g19o10:\t (1.0, 1.0, 1.0, 194, 194, 194)\n"
     ]
    },
    {
     "name": "stderr",
     "output_type": "stream",
     "text": [
      "100%|████████████████████████████████████████████████████████| 10/10 [00:21<00:00,  2.16s/it]\n"
     ]
    },
    {
     "name": "stdout",
     "output_type": "stream",
     "text": [
      "g19o3:\t (1.0, 1.0, 1.0, 215, 215, 215)\n"
     ]
    },
    {
     "name": "stderr",
     "output_type": "stream",
     "text": [
      "100%|████████████████████████████████████████████████████████| 82/82 [03:53<00:00,  2.84s/it]"
     ]
    },
    {
     "name": "stdout",
     "output_type": "stream",
     "text": [
      "g4p5:\t (0.9987903225806452, 0.9975835682641966, 0.998186580697159, 2477, 2480, 2483)\n"
     ]
    },
    {
     "name": "stderr",
     "output_type": "stream",
     "text": [
      "\n"
     ]
    }
   ],
   "source": [
    "for fname in fname_list:\n",
    "    audio_paths, label_paths = get_audio_and_label_paths(\"data/dataset/zebseg/%s/test/\"%(fname))\n",
    "\n",
    "    audio_list, label_list = [], []\n",
    "    for audio_path, label_path in zip(audio_paths, label_paths):\n",
    "        audio, _ = librosa.load( audio_path, sr = 16000 )\n",
    "        label_df = pd.read_csv( label_path )\n",
    "        label = {\n",
    "            \"onset\":list(label_df[\"onset\"]),\n",
    "            \"offset\":list(label_df[\"offset\"]),\n",
    "            \"cluster\":list(label_df[\"cluster\"]) \n",
    "        }\n",
    "        audio_list.append(audio)\n",
    "        label_list.append(label)\n",
    "    \n",
    "    \n",
    "    res = validate( audio_list, label_list, segmenter, sr = 16000, tolerance = 0.02, num_trials = 3 , min_segment_length = 0.02,\n",
    "              voting_time_step = 1.0, voting_precision = 0.001, batch_size = 8, max_length = 400, target_cluster = None )\n",
    "    print(fname+\":\\t\", res)\n",
    "    "
   ]
  },
  {
   "cell_type": "code",
   "execution_count": null,
   "id": "dc54bb88-abc8-44a0-8c7a-d881ef15d3ef",
   "metadata": {},
   "outputs": [],
   "source": []
  }
 ],
 "metadata": {
  "kernelspec": {
   "display_name": "Python 3 (ipykernel)",
   "language": "python",
   "name": "python3"
  },
  "language_info": {
   "codemirror_mode": {
    "name": "ipython",
    "version": 3
   },
   "file_extension": ".py",
   "mimetype": "text/x-python",
   "name": "python",
   "nbconvert_exporter": "python",
   "pygments_lexer": "ipython3",
   "version": "3.9.16"
  }
 },
 "nbformat": 4,
 "nbformat_minor": 5
}
