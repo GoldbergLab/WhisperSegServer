{
 "cells": [
  {
   "cell_type": "markdown",
   "id": "72fef482-a129-44bc-a99c-da32d50b1347",
   "metadata": {},
   "source": [
    "# Set up environment"
   ]
  },
  {
   "cell_type": "markdown",
   "id": "c87d3251-b38e-4a75-887b-4f60bfbe7179",
   "metadata": {},
   "source": [
    "## Option 1: Set up environment in your local computer\n",
    "1. Install Miniconda (or Anaconda)\n",
    "https://docs.conda.io/en/latest/miniconda.html\n",
    "\n",
    "2. In the \"base\" anaconda environment, create a new environment \"syllable_segment\" (This installation will take a few minutes.):\n",
    "```bash\n",
    "conda env create -f environment.yml\n",
    "```\n",
    "3. Activate the anaconda environment \"syllable_segment\":\n",
    "```bash\n",
    "conda activate syllable_segment\n",
    "```\n",
    "Alternatively, one can go through all the packages that are imported, and install the missing packages manually.\n",
    "\n",
    "## Option 2: Run the code on google colab (with GPU runtime)\n",
    "Since google colab has preinstalled most of the package, we only need to install the \"transformers\" package\n",
    "```bash\n",
    "pip install transformers\n",
    "```\n",
    "\n",
    "The following commands assume that this jupyter notebook is running within the created anaconda environment, or with all necessary python packages installed."
   ]
  },
  {
   "cell_type": "markdown",
   "id": "3956eac2-46a0-4ed6-bc7b-2c70eec38934",
   "metadata": {},
   "source": [
    "# Use the pretrained WhisperSeg in command line"
   ]
  },
  {
   "cell_type": "code",
   "execution_count": 22,
   "id": "d46d8c00-bae9-45fc-a7fe-bb697f11f225",
   "metadata": {
    "tags": []
   },
   "outputs": [],
   "source": [
    "from model import Segmenter\n",
    "import librosa\n",
    "import pandas as pd\n",
    "import numpy as np"
   ]
  },
  {
   "cell_type": "code",
   "execution_count": 2,
   "id": "c0a2c0e4-c69e-4ae8-b3a5-deae090522c7",
   "metadata": {
    "tags": []
   },
   "outputs": [],
   "source": [
    "# initialize the segmenter\n",
    "segmenter = Segmenter(  model_path = \"nianlong/vocal-segment-zebra-finch-whisper-large\", \n",
    "                        device = \"cuda:0\")"
   ]
  },
  {
   "cell_type": "code",
   "execution_count": 3,
   "id": "b2703150-28a4-4bed-ac98-692e23ea9fc9",
   "metadata": {
    "tags": []
   },
   "outputs": [],
   "source": [
    "# load an audio file, and resample the audio to the sampling rate 16000 Hz \n",
    "audio_file_name = \"data/R3406_035/test/R3406_40911.54676404_1_3_15_11_16.wav\"\n",
    "audio, _ = librosa.load( audio_file_name, sr = 16000 )"
   ]
  },
  {
   "cell_type": "code",
   "execution_count": 4,
   "id": "46784449-5eb6-4ee4-afe0-75ada540b8d7",
   "metadata": {
    "tags": []
   },
   "outputs": [],
   "source": [
    "# segment the audio, i.e., predict the paired on/offset of the audio\n",
    "prediction = segmenter.segment( audio )"
   ]
  },
  {
   "cell_type": "code",
   "execution_count": 17,
   "id": "52166b3f-4c47-4737-8992-52121d125a8b",
   "metadata": {
    "tags": []
   },
   "outputs": [
    {
     "data": {
      "text/plain": [
       "{'onset': array([1.47, 1.83, 1.93, 2.06, 2.17, 2.25, 2.42, 2.71, 2.91, 3.05, 3.13,\n",
       "        3.28, 3.62, 3.81, 4.09, 4.2 , 4.97]),\n",
       " 'offset': array([1.57, 1.88, 2.03, 2.1 , 2.24, 2.37, 2.58, 2.84, 3.02, 3.12, 3.24,\n",
       "        3.43, 3.67, 3.9 , 4.15, 4.38, 5.07])}"
      ]
     },
     "execution_count": 17,
     "metadata": {},
     "output_type": "execute_result"
    }
   ],
   "source": [
    "prediction"
   ]
  },
  {
   "cell_type": "markdown",
   "id": "67504c22-ed57-433e-b63f-6d07ef750205",
   "metadata": {},
   "source": [
    "To save the prediction into a .csv file, run the following command:"
   ]
  },
  {
   "cell_type": "code",
   "execution_count": 5,
   "id": "43cf0f3b-f790-4f30-b4d3-e476d28b6a3d",
   "metadata": {
    "tags": []
   },
   "outputs": [],
   "source": [
    "# pd.DataFrame(prediction).to_csv(\"predicted_annotations.csv\", index = False)"
   ]
  },
  {
   "cell_type": "markdown",
   "id": "38482d13-59b2-4c90-af0f-278afe6ddccb",
   "metadata": {},
   "source": [
    "# Visualize the prediction\n",
    "This visualize function is only supported on jupter notebook and google colab, because it is an interactive plot that is a ipywidget feature."
   ]
  },
  {
   "cell_type": "code",
   "execution_count": 6,
   "id": "1dbd82b1-d160-417f-bf0b-d4b8e1e765b6",
   "metadata": {
    "tags": []
   },
   "outputs": [
    {
     "data": {
      "application/vnd.jupyter.widget-view+json": {
       "model_id": "871a40111a614351b0ebdd6a3d85f8a0",
       "version_major": 2,
       "version_minor": 0
      },
      "text/plain": [
       "interactive(children=(FloatSlider(value=1.0, description='offset', max=2.0530625000000002), Output()), _dom_cl…"
      ]
     },
     "metadata": {},
     "output_type": "display_data"
    },
    {
     "data": {
      "text/plain": [
       "<function ipywidgets.widgets.interaction._InteractFactory.__call__.<locals>.<lambda>(*args, **kwargs)>"
      ]
     },
     "execution_count": 6,
     "metadata": {},
     "output_type": "execute_result"
    }
   ],
   "source": [
    "segmenter.visualize( audio = audio, prediction = prediction, audio_file_name = audio_file_name)"
   ]
  },
  {
   "cell_type": "markdown",
   "id": "82676c41-b0ba-46f5-8b68-36244784cdaa",
   "metadata": {},
   "source": [
    "If we know the ground-truth label, we can also plot both the predicted label and the ground-truth label to visualize the prediction error.\n",
    "\n",
    "For example, we have the annotation file for the following wav file:"
   ]
  },
  {
   "cell_type": "code",
   "execution_count": 7,
   "id": "a18e63c5-6b14-4d03-921e-2d8cfcba88ad",
   "metadata": {
    "tags": []
   },
   "outputs": [
    {
     "data": {
      "text/plain": [
       "('data/R3406_035/test/R3406_40911.54676404_1_3_15_11_16.wav',\n",
       " 'data/R3406_035/test/R3406_40911.54676404_1_3_15_11_16.csv')"
      ]
     },
     "execution_count": 7,
     "metadata": {},
     "output_type": "execute_result"
    }
   ],
   "source": [
    "human_annotation_file_name = audio_file_name[:-4]+\".csv\"\n",
    "audio_file_name, human_annotation_file_name"
   ]
  },
  {
   "cell_type": "code",
   "execution_count": 26,
   "id": "f6819a71-7c73-4053-811d-ff1f0ed3ebb2",
   "metadata": {
    "tags": []
   },
   "outputs": [],
   "source": [
    "\"\"\" \n",
    "Both label and prediction is a dictionary. \n",
    "The dictionary contains two keys: onset and offset. \n",
    "The value for each key is an numpy array\n",
    "\"\"\"\n",
    "label_df = pd.read_csv( human_annotation_file_name )\n",
    "label = {\n",
    "    \"onset\":np.array(label_df[\"onset\"]),\n",
    "    \"offset\":np.array(label_df[\"offset\"])\n",
    "}"
   ]
  },
  {
   "cell_type": "code",
   "execution_count": 27,
   "id": "a60b0398-9fca-422c-888d-308da64c83f4",
   "metadata": {
    "tags": []
   },
   "outputs": [
    {
     "data": {
      "application/vnd.jupyter.widget-view+json": {
       "model_id": "2885deee321d4a55bb137d1f9cda9d10",
       "version_major": 2,
       "version_minor": 0
      },
      "text/plain": [
       "interactive(children=(FloatSlider(value=1.0, description='offset', max=2.0530625000000002), Output()), _dom_cl…"
      ]
     },
     "metadata": {},
     "output_type": "display_data"
    },
    {
     "data": {
      "text/plain": [
       "<function ipywidgets.widgets.interaction._InteractFactory.__call__.<locals>.<lambda>(*args, **kwargs)>"
      ]
     },
     "execution_count": 27,
     "metadata": {},
     "output_type": "execute_result"
    }
   ],
   "source": [
    "segmenter.visualize( audio = audio, prediction = prediction, label = label, audio_file_name = audio_file_name)"
   ]
  },
  {
   "cell_type": "markdown",
   "id": "35698f3f-979c-47f5-a7cc-a501fe2357dc",
   "metadata": {},
   "source": [
    "# Finetune WhisperSeg"
   ]
  },
  {
   "cell_type": "markdown",
   "id": "b8b70a50-78f1-4500-afe9-b849e8207f9a",
   "metadata": {},
   "source": [
    "We are going to finetune WhisperSeg on the zebra finch dataset released by the DAS paper. In this dataset the researchers have adopted a very different standard when segmenting the syllables. So the model \"vocal-segment-zebra-finch-whisper-large\" that was pretrained on Tomas's dataset will perform not well. Let's have a look:"
   ]
  },
  {
   "cell_type": "code",
   "execution_count": 28,
   "id": "020186f6-e78b-42b8-9760-b667fd5518d0",
   "metadata": {
    "tags": []
   },
   "outputs": [
    {
     "data": {
      "application/vnd.jupyter.widget-view+json": {
       "model_id": "61a9ab415eff4d8691962af4e3165e10",
       "version_major": 2,
       "version_minor": 0
      },
      "text/plain": [
       "interactive(children=(FloatSlider(value=4.3, description='offset', max=8.6498125), Output()), _dom_classes=('w…"
      ]
     },
     "metadata": {},
     "output_type": "display_data"
    },
    {
     "data": {
      "text/plain": [
       "<function ipywidgets.widgets.interaction._InteractFactory.__call__.<locals>.<lambda>(*args, **kwargs)>"
      ]
     },
     "execution_count": 28,
     "metadata": {},
     "output_type": "execute_result"
    }
   ],
   "source": [
    "audio_file_name = \"data/DAS_zebra_finch/test/birdname_130519_113316.31.wav\"\n",
    "human_annotation_file_name = \"data/DAS_zebra_finch/test/birdname_130519_113316.31.csv\"\n",
    "audio, _ = librosa.load( audio_file_name, sr = 16000 )\n",
    "label_df = pd.read_csv( human_annotation_file_name )\n",
    "label = {\n",
    "    \"onset\":np.array(label_df[\"onset\"]),\n",
    "    \"offset\":np.array(label_df[\"offset\"])\n",
    "}\n",
    "prediction = segmenter.segment( audio )\n",
    "segmenter.visualize( audio = audio, prediction = prediction, label = label, audio_file_name = audio_file_name)"
   ]
  },
  {
   "cell_type": "markdown",
   "id": "555f2df2-eb14-41bc-8eb9-b295a2d7033c",
   "metadata": {},
   "source": [
    "There are quite a lot of False Positives! That's why we need to finetune WhisperSeg."
   ]
  },
  {
   "cell_type": "markdown",
   "id": "078345cb-5bf6-4ee3-8489-ee80bce0572d",
   "metadata": {},
   "source": [
    "## Dataset preparation\n",
    "Before finetuning WhisperSeg, we need to first prepare the training dataset and the test dataset.\n",
    "\n",
    "Take the training dataset as an example: \n",
    "* All training audio and annotation files should be placed in the same folder.\n",
    "* The audio file should have a format \".wav\" (lowercase),  and the annotation has a format \".csv\"\n",
    "* The names of the audio file and the corresponding annotation file should be matched. For example, if there is an audio file named \"XXXXX_bird_12345.wav\", the corresponding annotation file needs to be named as \"XXXXX_bird_12345.csv\"\n",
    "* Inside the annotation file, there will be two columns: \"onset\" and \"offset\". The unit of the value is second.\n",
    "* The .wav file can have various sampling rate. The model will resample them to 16kHz automatically.\n",
    "\n",
    "For the testing dataset, the requirement is the same.\n",
    "\n",
    "Please check the folder: data/DAS_zebra_finch/ for concrete examples."
   ]
  },
  {
   "cell_type": "markdown",
   "id": "d4171ca6-0b6b-4f98-bd06-8acbb24fcd3e",
   "metadata": {},
   "source": [
    "## Training\n"
   ]
  },
  {
   "cell_type": "markdown",
   "id": "b2e0c9ca-2485-432f-aaa8-1a3b409fd6c8",
   "metadata": {},
   "source": [
    "Explanation of the training parameters:\n",
    "* initial_model_path: The initail checkpoint of Wshiper, here we use the whisper model pretrained on Tomas's dataset\n",
    "* model_folder: the folder to save the trained checkpoint\n",
    "* result_folder: the folder to save some loging information and validation and test results\n",
    "* train_dataset_folder: the folder that contains all the paired training audio and annotation data as described above\n",
    "* test_dataset_folder: \n",
    "* warmup_steps: the learning rate will increase from 0 linearly to 1e-6 within warmup steps\n",
    "* save_every: save the checkpoint after save_every training steps\n",
    "* max_num_iterations: the maximum number of training steps before the training finishes.\n",
    "* batch_size: Training WhisperSeg requires around 40 GB GPU RAM if we use a batch size of 4. For smaller GPU, please try batch size 2 or 1.\n",
    "\n",
    "Since the DAS_zebra_finch is a very small dataset, we finetune WhisperSeg for 1000 steps, and set up the warmup step to 200. \n",
    "We do not create validation set, and use all the training set to train the model until the max_num_iterations is reached, and we only keep the model checkpont at the max_num_iterations. Empirically this works very stable."
   ]
  },
  {
   "cell_type": "code",
   "execution_count": null,
   "id": "3a24e0ee-3d98-499a-bf18-8b1f34520f95",
   "metadata": {},
   "outputs": [
    {
     "name": "stdout",
     "output_type": "stream",
     "text": [
      "/home/nianlong/miniconda3/envs/syllable_segment/lib/python3.9/site-packages/transformers/optimization.py:306: FutureWarning: This implementation of AdamW is deprecated and will be removed in a future version. Use the PyTorch implementation torch.optim.AdamW instead, or set `no_deprecation_warning=True` to disable this warning\n",
      "  warnings.warn(\n",
      "  0%|                                                    | 0/13 [00:00<?, ?it/s]/home/nianlong/miniconda3/envs/syllable_segment/lib/python3.9/site-packages/torch/optim/lr_scheduler.py:138: UserWarning: Detected call of `lr_scheduler.step()` before `optimizer.step()`. In PyTorch 1.1.0 and later, you should call them in the opposite order: `optimizer.step()` before `lr_scheduler.step()`.  Failure to do this will result in PyTorch skipping the first value of the learning rate schedule. See more details at https://pytorch.org/docs/stable/optim.html#how-to-adjust-learning-rate\n",
      "  warnings.warn(\"Detected call of `lr_scheduler.step()` before `optimizer.step()`. \"\n",
      "100%|███████████████████████████████████████████| 13/13 [00:10<00:00,  1.28it/s]\n",
      "100%|███████████████████████████████████████████| 13/13 [00:09<00:00,  1.41it/s]\n",
      "100%|███████████████████████████████████████████| 13/13 [00:09<00:00,  1.37it/s]\n",
      "100%|███████████████████████████████████████████| 13/13 [00:09<00:00,  1.38it/s]\n",
      "100%|███████████████████████████████████████████| 13/13 [00:09<00:00,  1.41it/s]\n",
      "100%|███████████████████████████████████████████| 13/13 [00:09<00:00,  1.37it/s]\n",
      "100%|███████████████████████████████████████████| 13/13 [00:09<00:00,  1.37it/s]\n",
      " 62%|███████████████████████████                 | 8/13 [00:05<00:03,  1.41it/s]Epoch: 7, current_batch: 100, learning rate: 0.000000, Loss: 1.1831\n",
      "100%|███████████████████████████████████████████| 13/13 [00:09<00:00,  1.37it/s]\n",
      "100%|███████████████████████████████████████████| 13/13 [00:09<00:00,  1.36it/s]\n",
      "100%|███████████████████████████████████████████| 13/13 [00:09<00:00,  1.37it/s]\n",
      "100%|███████████████████████████████████████████| 13/13 [00:09<00:00,  1.37it/s]\n",
      "100%|███████████████████████████████████████████| 13/13 [00:09<00:00,  1.37it/s]\n",
      "100%|███████████████████████████████████████████| 13/13 [00:09<00:00,  1.37it/s]\n",
      "100%|███████████████████████████████████████████| 13/13 [00:09<00:00,  1.36it/s]\n",
      "100%|███████████████████████████████████████████| 13/13 [00:10<00:00,  1.29it/s]\n",
      " 31%|█████████████▌                              | 4/13 [00:03<00:06,  1.34it/s]Epoch: 15, current_batch: 200, learning rate: 0.000001, Loss: 0.3107\n",
      "100%|███████████████████████████████████████████| 13/13 [00:09<00:00,  1.36it/s]\n",
      "100%|███████████████████████████████████████████| 13/13 [00:09<00:00,  1.36it/s]\n",
      "100%|███████████████████████████████████████████| 13/13 [00:09<00:00,  1.36it/s]\n",
      "100%|███████████████████████████████████████████| 13/13 [00:09<00:00,  1.37it/s]\n",
      "100%|███████████████████████████████████████████| 13/13 [00:09<00:00,  1.36it/s]\n",
      "100%|███████████████████████████████████████████| 13/13 [00:09<00:00,  1.36it/s]\n",
      "100%|███████████████████████████████████████████| 13/13 [00:09<00:00,  1.36it/s]\n",
      "100%|███████████████████████████████████████████| 13/13 [00:09<00:00,  1.35it/s]\n",
      "  0%|                                                    | 0/13 [00:00<?, ?it/s]Epoch: 23, current_batch: 300, learning rate: 0.000001, Loss: 0.1981\n",
      "100%|███████████████████████████████████████████| 13/13 [00:09<00:00,  1.35it/s]\n",
      "100%|███████████████████████████████████████████| 13/13 [00:09<00:00,  1.36it/s]\n",
      "100%|███████████████████████████████████████████| 13/13 [00:09<00:00,  1.36it/s]\n",
      "100%|███████████████████████████████████████████| 13/13 [00:09<00:00,  1.36it/s]\n",
      "100%|███████████████████████████████████████████| 13/13 [00:09<00:00,  1.36it/s]\n",
      "100%|███████████████████████████████████████████| 13/13 [00:09<00:00,  1.37it/s]\n",
      "100%|███████████████████████████████████████████| 13/13 [00:09<00:00,  1.37it/s]\n",
      " 69%|██████████████████████████████▍             | 9/13 [00:06<00:02,  1.41it/s]Epoch: 30, current_batch: 400, learning rate: 0.000001, Loss: 0.1623\n",
      "100%|███████████████████████████████████████████| 13/13 [00:09<00:00,  1.37it/s]\n",
      "100%|███████████████████████████████████████████| 13/13 [00:09<00:00,  1.37it/s]\n",
      "100%|███████████████████████████████████████████| 13/13 [00:09<00:00,  1.37it/s]\n",
      "100%|███████████████████████████████████████████| 13/13 [00:09<00:00,  1.37it/s]\n",
      "100%|███████████████████████████████████████████| 13/13 [00:09<00:00,  1.37it/s]\n",
      "100%|███████████████████████████████████████████| 13/13 [00:09<00:00,  1.37it/s]\n",
      "100%|███████████████████████████████████████████| 13/13 [00:09<00:00,  1.37it/s]\n",
      "100%|███████████████████████████████████████████| 13/13 [00:09<00:00,  1.37it/s]\n",
      " 38%|████████████████▉                           | 5/13 [00:03<00:05,  1.37it/s]Epoch: 38, current_batch: 500, learning rate: 0.000001, Loss: 0.1604\n",
      "100%|███████████████████████████████████████████| 13/13 [00:09<00:00,  1.37it/s]\n",
      "100%|███████████████████████████████████████████| 13/13 [00:09<00:00,  1.37it/s]\n",
      "100%|███████████████████████████████████████████| 13/13 [00:09<00:00,  1.37it/s]\n",
      "100%|███████████████████████████████████████████| 13/13 [00:09<00:00,  1.37it/s]\n",
      "100%|███████████████████████████████████████████| 13/13 [00:09<00:00,  1.37it/s]\n",
      "100%|███████████████████████████████████████████| 13/13 [00:09<00:00,  1.37it/s]\n",
      "100%|███████████████████████████████████████████| 13/13 [00:09<00:00,  1.37it/s]\n",
      "100%|███████████████████████████████████████████| 13/13 [00:09<00:00,  1.38it/s]\n",
      "  8%|███▍                                        | 1/13 [00:01<00:12,  1.02s/it]Epoch: 46, current_batch: 600, learning rate: 0.000000, Loss: 0.1527\n",
      "100%|███████████████████████████████████████████| 13/13 [00:09<00:00,  1.37it/s]\n",
      "100%|███████████████████████████████████████████| 13/13 [00:09<00:00,  1.37it/s]\n",
      "100%|███████████████████████████████████████████| 13/13 [00:09<00:00,  1.37it/s]\n",
      "100%|███████████████████████████████████████████| 13/13 [00:09<00:00,  1.37it/s]\n",
      "100%|███████████████████████████████████████████| 13/13 [00:09<00:00,  1.37it/s]\n",
      "100%|███████████████████████████████████████████| 13/13 [00:09<00:00,  1.37it/s]\n",
      "100%|███████████████████████████████████████████| 13/13 [00:09<00:00,  1.37it/s]\n",
      " 77%|█████████████████████████████████          | 10/13 [00:07<00:02,  1.43it/s]Epoch: 53, current_batch: 700, learning rate: 0.000000, Loss: 0.1412\n",
      "100%|███████████████████████████████████████████| 13/13 [00:09<00:00,  1.38it/s]\n",
      "100%|███████████████████████████████████████████| 13/13 [00:09<00:00,  1.38it/s]\n",
      "100%|███████████████████████████████████████████| 13/13 [00:09<00:00,  1.37it/s]\n",
      "100%|███████████████████████████████████████████| 13/13 [00:09<00:00,  1.37it/s]\n",
      "100%|███████████████████████████████████████████| 13/13 [00:09<00:00,  1.37it/s]\n",
      "100%|███████████████████████████████████████████| 13/13 [00:09<00:00,  1.37it/s]\n",
      "100%|███████████████████████████████████████████| 13/13 [00:09<00:00,  1.37it/s]\n",
      "100%|███████████████████████████████████████████| 13/13 [00:09<00:00,  1.37it/s]\n",
      " 46%|████████████████████▎                       | 6/13 [00:04<00:05,  1.39it/s]Epoch: 61, current_batch: 800, learning rate: 0.000000, Loss: 0.1327\n",
      "100%|███████████████████████████████████████████| 13/13 [00:09<00:00,  1.37it/s]\n",
      "100%|███████████████████████████████████████████| 13/13 [00:09<00:00,  1.37it/s]\n",
      "100%|███████████████████████████████████████████| 13/13 [00:09<00:00,  1.37it/s]\n",
      "100%|███████████████████████████████████████████| 13/13 [00:09<00:00,  1.36it/s]\n",
      "100%|███████████████████████████████████████████| 13/13 [00:09<00:00,  1.37it/s]\n",
      "100%|███████████████████████████████████████████| 13/13 [00:09<00:00,  1.36it/s]\n",
      "100%|███████████████████████████████████████████| 13/13 [00:09<00:00,  1.37it/s]\n",
      "100%|███████████████████████████████████████████| 13/13 [00:09<00:00,  1.36it/s]\n",
      " 15%|██████▊                                     | 2/13 [00:01<00:09,  1.20it/s]Epoch: 69, current_batch: 900, learning rate: 0.000000, Loss: 0.1299\n",
      "100%|███████████████████████████████████████████| 13/13 [00:09<00:00,  1.37it/s]\n",
      "100%|███████████████████████████████████████████| 13/13 [00:09<00:00,  1.38it/s]\n",
      "100%|███████████████████████████████████████████| 13/13 [00:09<00:00,  1.37it/s]\n",
      "100%|███████████████████████████████████████████| 13/13 [00:09<00:00,  1.37it/s]\n",
      "100%|███████████████████████████████████████████| 13/13 [00:09<00:00,  1.37it/s]\n",
      "100%|███████████████████████████████████████████| 13/13 [00:09<00:00,  1.38it/s]\n",
      "100%|███████████████████████████████████████████| 13/13 [00:09<00:00,  1.37it/s]\n",
      " 85%|████████████████████████████████████▍      | 11/13 [00:07<00:01,  1.43it/s]Epoch: 76, current_batch: 1000, learning rate: 0.000000, Loss: 0.1284\n",
      " 85%|████████████████████████████████████▍      | 11/13 [00:14<00:02,  1.33s/it]\n",
      "The best checkpoint on validation set is: model/DAS_zebra_finch/checkpoint-1000,\n",
      "Reporting test results ...\n",
      "100%|█████████████████████████████████████████████| 2/2 [00:10<00:00,  5.47s/it]\n",
      "Test performance: f1 score: 0.9720\n",
      "Removing sub-optimal checkpoints ...\n",
      "All Done!\n"
     ]
    }
   ],
   "source": [
    "!python train.py -initial_model_path nianlong/vocal-segment-zebra-finch-whisper-large -model_folder model/DAS_zebra_finch -result_folder result/DAS_zebra_finch -train_dataset_folder data/DAS_zebra_finch/train -test_dataset_folder data/DAS_zebra_finch/test -warmup_steps 200 -save_every 1000 -max_num_iterations 1000 -batch_size 4\n"
   ]
  },
  {
   "cell_type": "markdown",
   "id": "5b381b9f-6050-4f31-afaa-add06cd8f548",
   "metadata": {},
   "source": [
    "Let's use the finetuned WhisperSeg to segment the audio from the DAS_zebra_finch test set again."
   ]
  },
  {
   "cell_type": "code",
   "execution_count": 30,
   "id": "5c6a3ba0-f564-4c67-bc0d-8546a3ffd685",
   "metadata": {
    "tags": []
   },
   "outputs": [
    {
     "data": {
      "application/vnd.jupyter.widget-view+json": {
       "model_id": "173d2bc1523f424e96cf98c6441e749f",
       "version_major": 2,
       "version_minor": 0
      },
      "text/plain": [
       "interactive(children=(FloatSlider(value=4.3, description='offset', max=8.6498125), Output()), _dom_classes=('w…"
      ]
     },
     "metadata": {},
     "output_type": "display_data"
    },
    {
     "data": {
      "text/plain": [
       "<function ipywidgets.widgets.interaction._InteractFactory.__call__.<locals>.<lambda>(*args, **kwargs)>"
      ]
     },
     "execution_count": 30,
     "metadata": {},
     "output_type": "execute_result"
    }
   ],
   "source": [
    "from model import Segmenter\n",
    "import librosa\n",
    "import pandas as pd\n",
    "import numpy as np\n",
    "\n",
    "segmenter = Segmenter(  model_path = \"model/DAS_zebra_finch/checkpoint-1000\", \n",
    "                        device = \"cuda:0\")\n",
    "\n",
    "audio_file_name = \"data/DAS_zebra_finch/test/birdname_130519_113316.31.wav\"\n",
    "human_annotation_file_name = \"data/DAS_zebra_finch/test/birdname_130519_113316.31.csv\"\n",
    "audio, _ = librosa.load( audio_file_name, sr = 16000 )\n",
    "label_df = pd.read_csv( human_annotation_file_name )\n",
    "label = {\n",
    "    \"onset\":np.array(label_df[\"onset\"]),\n",
    "    \"offset\":np.array(label_df[\"offset\"])\n",
    "}\n",
    "prediction = segmenter.segment( audio )\n",
    "segmenter.visualize( audio = audio, prediction = prediction, label = label, audio_file_name = audio_file_name)"
   ]
  },
  {
   "cell_type": "markdown",
   "id": "ea2730a6-5d28-477c-b742-0a6d4e0da041",
   "metadata": {},
   "source": [
    "Therefore, WhisperSeg does perform better after finetuning!"
   ]
  },
  {
   "cell_type": "code",
   "execution_count": null,
   "id": "7d80687a-e585-4b24-9195-f50c9e7e5765",
   "metadata": {},
   "outputs": [],
   "source": []
  }
 ],
 "metadata": {
  "kernelspec": {
   "display_name": "Python 3 (ipykernel)",
   "language": "python",
   "name": "python3"
  },
  "language_info": {
   "codemirror_mode": {
    "name": "ipython",
    "version": 3
   },
   "file_extension": ".py",
   "mimetype": "text/x-python",
   "name": "python",
   "nbconvert_exporter": "python",
   "pygments_lexer": "ipython3",
   "version": "3.9.16"
  }
 },
 "nbformat": 4,
 "nbformat_minor": 5
}
