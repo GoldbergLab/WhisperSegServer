{
 "cells": [
  {
   "cell_type": "markdown",
   "id": "b585c82b-b935-4311-80fe-f1681d921177",
   "metadata": {},
   "source": [
    "# Set up environment"
   ]
  },
  {
   "cell_type": "markdown",
   "id": "fc7acf2d-2d3f-4718-9bdf-6153dd06991f",
   "metadata": {},
   "source": [
    "## Option 1: Set up environment in your local computer\n",
    "1. Install Miniconda (or Anaconda)\n",
    "https://docs.conda.io/en/latest/miniconda.html\n",
    "\n",
    "2. In the \"base\" anaconda environment, create a new environment \"syllable_segment\" (This installation will take a few minutes.):\n",
    "```bash\n",
    "conda env create -f environment.yml\n",
    "```\n",
    "3. Activate the anaconda environment \"syllable_segment\":\n",
    "```bash\n",
    "conda activate syllable_segment\n",
    "```\n",
    "Alternatively, one can go through all the packages that are imported, and install the missing packages manually.\n",
    "\n",
    "## Option 2: Run the code on google colab (with GPU runtime)\n",
    "Since google colab has preinstalled most of the package, we only need to install the \"transformers\" package\n",
    "```bash\n",
    "pip install transformers\n",
    "```\n",
    "\n",
    "The following commands assume that this jupyter notebook is running within the created anaconda environment, or with all necessary python packages installed."
   ]
  },
  {
   "cell_type": "markdown",
   "id": "d021ad4b-56be-455e-8e40-a0d34d2fb201",
   "metadata": {},
   "source": [
    "# Use the pretrained WhisperSeg in command line"
   ]
  },
  {
   "cell_type": "code",
   "execution_count": 1,
   "id": "7ce53da7-b752-4bb3-adff-4861d52bf483",
   "metadata": {
    "tags": []
   },
   "outputs": [],
   "source": [
    "from model import WhisperSegmenter\n",
    "import librosa\n",
    "import pandas as pd\n",
    "import numpy as np\n",
    "from tqdm import tqdm\n",
    "import os"
   ]
  },
  {
   "cell_type": "code",
   "execution_count": 2,
   "id": "31b779da-4d4e-4fbd-9a06-8c0e633575f2",
   "metadata": {
    "tags": []
   },
   "outputs": [],
   "source": [
    "segmenter = WhisperSegmenter( model_path = \"nccratliri/whisperseg-zebra-finch\", \n",
    "                        device = \"cuda\")"
   ]
  },
  {
   "cell_type": "code",
   "execution_count": 3,
   "id": "f0015a2c-9358-443e-8f5f-c15d58f49505",
   "metadata": {
    "tags": []
   },
   "outputs": [],
   "source": [
    "# load an audio file, and resample the audio to the sampling rate 16000 Hz \n",
    "audio_file_name = \"data/dataset/zebra_finch_test/R3406_40911.54676404_1_3_15_11_16.wav\"\n",
    "audio, _ = librosa.load( audio_file_name, sr = 16000 )"
   ]
  },
  {
   "cell_type": "code",
   "execution_count": 4,
   "id": "5d786744-63a4-4b94-b9e6-6b37a7c10763",
   "metadata": {
    "tags": []
   },
   "outputs": [],
   "source": [
    "# segment the audio, i.e., predict the paired on/offset of the audio\n",
    "prediction = segmenter.segment( audio )"
   ]
  },
  {
   "cell_type": "code",
   "execution_count": 5,
   "id": "3afd3dc4-fd4a-4dbd-b73a-7a4a965a88ae",
   "metadata": {
    "tags": []
   },
   "outputs": [
    {
     "name": "stdout",
     "output_type": "stream",
     "text": [
      "{'onset': [1.47, 1.8316666666666668, 1.93, 2.055, 2.17, 2.26, 2.425, 2.715, 2.9150000000000005, 3.0549999999999997, 3.135, 3.28, 3.6233333333333335, 3.815, 4.1, 4.2, 4.97], 'offset': [1.58, 1.883333333333333, 2.035, 2.105, 2.24, 2.37, 2.58, 2.8433333333333333, 3.0283333333333338, 3.1233333333333335, 3.24, 3.4299999999999997, 3.671666666666667, 3.905, 4.151666666666666, 4.39, 5.07], 'cluster': ['0', '0', '0', '0', '0', '0', '0', '0', '0', '0', '0', '0', '0', '0', '0', '0', '0']}\n"
     ]
    }
   ],
   "source": [
    "print(prediction)"
   ]
  },
  {
   "cell_type": "markdown",
   "id": "10ead03b-77b7-428b-b9af-71516aeb4ee4",
   "metadata": {},
   "source": [
    "The key \"cluster\" refers to the type or name of each segments. This key-value pair can be ignored if we only needs to onset and offset."
   ]
  },
  {
   "cell_type": "markdown",
   "id": "22b04d65-942d-4fc8-a2c4-52d0b32d01b3",
   "metadata": {},
   "source": [
    "To save the prediction into a .csv file, run the following command:"
   ]
  },
  {
   "cell_type": "code",
   "execution_count": 6,
   "id": "53014eab-6c2e-4f8a-8250-f52db54b171b",
   "metadata": {
    "tags": []
   },
   "outputs": [],
   "source": [
    "pd.DataFrame(prediction).to_csv(\"predicted_annotations.csv\", index = False)"
   ]
  },
  {
   "cell_type": "markdown",
   "id": "6816f44a-2bf3-47eb-bef5-90b19e699f92",
   "metadata": {},
   "source": [
    "# Visualize the prediction\n",
    "This visualize function is only supported on jupter notebook and google colab, because it is an interactive plot that is a ipywidget feature."
   ]
  },
  {
   "cell_type": "code",
   "execution_count": 6,
   "id": "616f2e9c-22cb-406c-9ee3-84be1ec0decc",
   "metadata": {
    "tags": []
   },
   "outputs": [
    {
     "data": {
      "application/vnd.jupyter.widget-view+json": {
       "model_id": "00fb467403894ea89f5b7e1fb700592c",
       "version_major": 2,
       "version_minor": 0
      },
      "text/plain": [
       "interactive(children=(FloatSlider(value=1.0, description='offset', max=2.0530625000000002, step=0.25), Output(…"
      ]
     },
     "metadata": {},
     "output_type": "display_data"
    },
    {
     "data": {
      "text/plain": [
       "<function ipywidgets.widgets.interaction._InteractFactory.__call__.<locals>.<lambda>(*args, **kwargs)>"
      ]
     },
     "execution_count": 6,
     "metadata": {},
     "output_type": "execute_result"
    }
   ],
   "source": [
    "segmenter.visualize(audio = audio, prediction = prediction )"
   ]
  },
  {
   "cell_type": "markdown",
   "id": "6e2c0b71-739e-4a0a-a24e-88c19be1b5f5",
   "metadata": {},
   "source": [
    "If we know the ground-truth label, we can also plot both the predicted label and the ground-truth label to visualize the prediction error.\n",
    "\n",
    "For example, we have the annotation file for the following wav file:"
   ]
  },
  {
   "cell_type": "code",
   "execution_count": 7,
   "id": "3f9e6704-5e7f-40c8-95db-a2332cb3f627",
   "metadata": {
    "tags": []
   },
   "outputs": [],
   "source": [
    "human_annotation_file_name = \"data/dataset/zebra_finch_test/R3406_40911.54676404_1_3_15_11_16.csv\""
   ]
  },
  {
   "cell_type": "code",
   "execution_count": 8,
   "id": "6a47aa33-8398-46c1-8777-22f9cbfe8874",
   "metadata": {
    "tags": []
   },
   "outputs": [],
   "source": [
    "\"\"\" \n",
    "Both label and prediction is a dictionary. \n",
    "The dictionary contains two keys: onset and offset. \n",
    "The value for each key is an numpy array\n",
    "\"\"\"\n",
    "label_df = pd.read_csv( human_annotation_file_name )\n",
    "label = {\n",
    "    \"onset\":np.array(label_df[\"onset\"]),\n",
    "    \"offset\":np.array(label_df[\"offset\"]),\n",
    "    \"cluster\":list(label_df[\"cluster\"]) \n",
    "}"
   ]
  },
  {
   "cell_type": "code",
   "execution_count": 9,
   "id": "27ee9932-9878-41f7-b704-c0e0ed622c5e",
   "metadata": {
    "tags": []
   },
   "outputs": [
    {
     "data": {
      "application/vnd.jupyter.widget-view+json": {
       "model_id": "e7414d7a07bf4a61bbbe2281009f7502",
       "version_major": 2,
       "version_minor": 0
      },
      "text/plain": [
       "interactive(children=(FloatSlider(value=1.0, description='offset', max=2.0530625000000002, step=0.25), Output(…"
      ]
     },
     "metadata": {},
     "output_type": "display_data"
    },
    {
     "data": {
      "text/plain": [
       "<function ipywidgets.widgets.interaction._InteractFactory.__call__.<locals>.<lambda>(*args, **kwargs)>"
      ]
     },
     "execution_count": 9,
     "metadata": {},
     "output_type": "execute_result"
    }
   ],
   "source": [
    "segmenter.visualize( audio = audio, prediction = prediction, label = label, audio_file_name = audio_file_name)\n"
   ]
  },
  {
   "cell_type": "markdown",
   "id": "acbb256b-b30e-4ed6-9110-54a139e8d48c",
   "metadata": {},
   "source": [
    "# Finetune WhisperSeg"
   ]
  },
  {
   "cell_type": "markdown",
   "id": "5ae1a569-6898-43f8-baf9-d98918f13e93",
   "metadata": {},
   "source": [
    "We are going to finetune WhisperSeg on the zebra finch dataset released by the DAS paper. Let's have a look:"
   ]
  },
  {
   "cell_type": "code",
   "execution_count": 10,
   "id": "e8d3fb08-6456-437a-bb7c-29e2183fd72a",
   "metadata": {
    "tags": []
   },
   "outputs": [],
   "source": [
    "audio_file_name = \"data/dataset/DAS/zebra_finch/test/birdname_130519_113316.31.wav\"\n",
    "audio, _ = librosa.load( audio_file_name, sr = 16000 )\n",
    "\n",
    "human_annotation_file_name = \"data/dataset/DAS/zebra_finch/test/birdname_130519_113316.31.csv\"\n",
    "label_df = pd.read_csv( human_annotation_file_name )\n",
    "label = {\n",
    "    \"onset\":np.array(label_df[\"onset\"]),\n",
    "    \"offset\":np.array(label_df[\"offset\"]),\n",
    "    \"cluster\":list(label_df[\"cluster\"]) \n",
    "}\n",
    "\n",
    "prediction = segmenter.segment( audio )"
   ]
  },
  {
   "cell_type": "code",
   "execution_count": 11,
   "id": "2b2f05f0-083e-4eb1-bd24-5cf8d7c2e0f5",
   "metadata": {
    "tags": []
   },
   "outputs": [
    {
     "data": {
      "application/vnd.jupyter.widget-view+json": {
       "model_id": "a54499362821432abe4964c9483b7913",
       "version_major": 2,
       "version_minor": 0
      },
      "text/plain": [
       "interactive(children=(FloatSlider(value=4.25, description='offset', max=8.6498125, step=0.25), Output()), _dom…"
      ]
     },
     "metadata": {},
     "output_type": "display_data"
    },
    {
     "data": {
      "text/plain": [
       "<function ipywidgets.widgets.interaction._InteractFactory.__call__.<locals>.<lambda>(*args, **kwargs)>"
      ]
     },
     "execution_count": 11,
     "metadata": {},
     "output_type": "execute_result"
    }
   ],
   "source": [
    "segmenter.visualize( audio = audio, prediction = prediction, label = label, audio_file_name = audio_file_name)\n"
   ]
  },
  {
   "cell_type": "markdown",
   "id": "b095d505-51a2-4e60-bd1c-430c39d1d735",
   "metadata": {},
   "source": [
    "So the pretrained model cannot be directly applied to the DAS zebra finch dataset. Therefore we need to finetune it further."
   ]
  },
  {
   "cell_type": "markdown",
   "id": "417ace57-2790-42ea-9afe-99fcdf2e469a",
   "metadata": {
    "tags": []
   },
   "source": [
    "## Dataset preparation\n",
    "**Before finetuning WhisperSeg, we need to first prepare the training dataset and the test dataset.**\n",
    "\n",
    "Take the training dataset as an example: \n",
    "* All training audio and annotation files should be placed in the same folder.\n",
    "* The audio file should have a format \".wav\" (lowercase),  and the annotation has a format \".csv\"\n",
    "* The names of the audio file and the corresponding annotation file should be matched. For example, if there is an audio file named \"XXXXX_bird_12345.wav\", the corresponding annotation file needs to be named as \"XXXXX_bird_12345.csv\"\n",
    "* Inside the annotation file, there will be **three** columns: \"**onset**\", \"**offset**\" and \"**cluster**\". The unit of the value is second. The **cluster** denotes the name (or type) of each segment. If no cluster is needed, you can set the cluster value of each segment to a fixed string, e.g. \"0\" or \"seg\", etc.\n",
    "* The .wav file can have various sampling rate. The model will resample them to 16kHz automatically.\n",
    "\n",
    "For the testing dataset, the requirement is the same.\n",
    "\n",
    "Please check the folder: data/DAS_zebra_finch/ for concrete examples."
   ]
  },
  {
   "cell_type": "markdown",
   "id": "4b50ea25-4316-49a1-828f-8cc820ebe020",
   "metadata": {},
   "source": [
    "## Training\n",
    "\n",
    "Note: Before runing the following command, it is recommended to restart this jupyter notebook by Kernel -> Restart Kernel. This will release the GPU memory used in the previous cells."
   ]
  },
  {
   "cell_type": "markdown",
   "id": "731b49e4-8c56-4d32-986f-200dea7cb9db",
   "metadata": {},
   "source": [
    "Explanation of the training parameters:\n",
    "* initial_model_path: The initail checkpoint of Wshiper, here we use the whisper model pretrained on Tomas's dataset\n",
    "* model_folder: the folder to save the trained checkpoint\n",
    "* result_folder: the folder to save some loging information and validation and test results\n",
    "* train_dataset_folder: the folder that contains all the paired training audio and annotation data as described above\n",
    "* test_dataset_folder: \n",
    "* timestamp_precision: the finest timestamp that can be predicted by the model, the default value is 5ms, which means the model can predicted onset or offset at 0.005, 0.010, ..., but not 0.0051. Set this value to a smaller value (e.g., 0.001) if your segments or gaps between segments can be very short, e.g., a few miliseconds.\n",
    "* warmup_steps: the learning rate will increase from 0 linearly to 1e-6 within warmup steps\n",
    "* save_every: save the checkpoint after save_every training steps\n",
    "* max_num_iterations: the maximum number of training steps before the training finishes.\n",
    "* batch_size: Training WhisperSeg requires around 40 GB GPU RAM if we use a batch size of 4. For smaller GPU, please try batch size 2 or 1.\n",
    "\n",
    "Since the DAS_zebra_finch is a very small dataset, we finetune WhisperSeg for 1000 steps, and set up the warmup step to 100. \n",
    "We do not create validation set, and use all the training set to train the model until the max_num_iterations is reached, and we only keep the model checkpont at the max_num_iterations. Empirically this works very stable."
   ]
  },
  {
   "cell_type": "code",
   "execution_count": 1,
   "id": "ac107e6c-93e6-453f-9dc1-de2ddb4f5539",
   "metadata": {
    "tags": []
   },
   "outputs": [
    {
     "name": "stdout",
     "output_type": "stream",
     "text": [
      "/home/nianlong/miniconda3/envs/syllable_segment/lib/python3.9/site-packages/transformers/optimization.py:411: FutureWarning: This implementation of AdamW is deprecated and will be removed in a future version. Use the PyTorch implementation torch.optim.AdamW instead, or set `no_deprecation_warning=True` to disable this warning\n",
      "  warnings.warn(\n",
      "100%|███████████████████████████████████████████| 22/22 [00:15<00:00,  1.40it/s]\n",
      "100%|███████████████████████████████████████████| 22/22 [00:15<00:00,  1.40it/s]\n",
      "100%|███████████████████████████████████████████| 22/22 [00:15<00:00,  1.40it/s]\n",
      "100%|███████████████████████████████████████████| 22/22 [00:15<00:00,  1.40it/s]\n",
      " 50%|█████████████████████▌                     | 11/22 [00:07<00:07,  1.44it/s]Epoch: 4, current_batch: 100, learning rate: 0.000010, Loss: 3.9366\n",
      "100%|███████████████████████████████████████████| 22/22 [00:15<00:00,  1.40it/s]\n",
      "100%|███████████████████████████████████████████| 22/22 [00:15<00:00,  1.40it/s]\n",
      "100%|███████████████████████████████████████████| 22/22 [00:15<00:00,  1.40it/s]\n",
      "100%|███████████████████████████████████████████| 22/22 [00:15<00:00,  1.40it/s]\n",
      "100%|███████████████████████████████████████████| 22/22 [00:15<00:00,  1.40it/s]\n",
      "  5%|██                                          | 1/22 [00:01<00:21,  1.05s/it]Epoch: 9, current_batch: 200, learning rate: 0.000009, Loss: 0.3942\n",
      "100%|███████████████████████████████████████████| 22/22 [00:15<00:00,  1.40it/s]\n",
      "100%|███████████████████████████████████████████| 22/22 [00:15<00:00,  1.40it/s]\n",
      "100%|███████████████████████████████████████████| 22/22 [00:15<00:00,  1.40it/s]\n",
      "100%|███████████████████████████████████████████| 22/22 [00:15<00:00,  1.40it/s]\n",
      " 59%|█████████████████████████▍                 | 13/22 [00:09<00:06,  1.44it/s]Epoch: 13, current_batch: 300, learning rate: 0.000008, Loss: 0.3237\n",
      "100%|███████████████████████████████████████████| 22/22 [00:15<00:00,  1.40it/s]\n",
      "100%|███████████████████████████████████████████| 22/22 [00:15<00:00,  1.40it/s]\n",
      "100%|███████████████████████████████████████████| 22/22 [00:15<00:00,  1.40it/s]\n",
      "100%|███████████████████████████████████████████| 22/22 [00:15<00:00,  1.40it/s]\n",
      "100%|███████████████████████████████████████████| 22/22 [00:15<00:00,  1.40it/s]\n",
      " 14%|██████                                      | 3/22 [00:02<00:14,  1.29it/s]Epoch: 18, current_batch: 400, learning rate: 0.000007, Loss: 0.2707\n",
      "100%|███████████████████████████████████████████| 22/22 [00:15<00:00,  1.40it/s]\n",
      "100%|███████████████████████████████████████████| 22/22 [00:15<00:00,  1.40it/s]\n",
      "100%|███████████████████████████████████████████| 22/22 [00:15<00:00,  1.40it/s]\n",
      "100%|███████████████████████████████████████████| 22/22 [00:15<00:00,  1.40it/s]\n",
      " 68%|█████████████████████████████▎             | 15/22 [00:10<00:04,  1.44it/s]Epoch: 22, current_batch: 500, learning rate: 0.000006, Loss: 0.2301\n",
      "100%|███████████████████████████████████████████| 22/22 [00:15<00:00,  1.40it/s]\n",
      "100%|███████████████████████████████████████████| 22/22 [00:15<00:00,  1.40it/s]\n",
      "100%|███████████████████████████████████████████| 22/22 [00:15<00:00,  1.40it/s]\n",
      "100%|███████████████████████████████████████████| 22/22 [00:15<00:00,  1.40it/s]\n",
      "100%|███████████████████████████████████████████| 22/22 [00:15<00:00,  1.40it/s]\n",
      " 23%|██████████                                  | 5/22 [00:03<00:12,  1.38it/s]Epoch: 27, current_batch: 600, learning rate: 0.000004, Loss: 0.2159\n",
      "100%|███████████████████████████████████████████| 22/22 [00:15<00:00,  1.40it/s]\n",
      "100%|███████████████████████████████████████████| 22/22 [00:15<00:00,  1.40it/s]\n",
      "100%|███████████████████████████████████████████| 22/22 [00:15<00:00,  1.39it/s]\n",
      "100%|███████████████████████████████████████████| 22/22 [00:15<00:00,  1.40it/s]\n",
      " 77%|█████████████████████████████████▏         | 17/22 [00:12<00:03,  1.44it/s]Epoch: 31, current_batch: 700, learning rate: 0.000003, Loss: 0.1802\n",
      "100%|███████████████████████████████████████████| 22/22 [00:15<00:00,  1.40it/s]\n",
      "100%|███████████████████████████████████████████| 22/22 [00:15<00:00,  1.40it/s]\n",
      "100%|███████████████████████████████████████████| 22/22 [00:15<00:00,  1.40it/s]\n",
      "100%|███████████████████████████████████████████| 22/22 [00:15<00:00,  1.39it/s]\n",
      "100%|███████████████████████████████████████████| 22/22 [00:15<00:00,  1.40it/s]\n",
      " 32%|██████████████                              | 7/22 [00:05<00:10,  1.42it/s]Epoch: 36, current_batch: 800, learning rate: 0.000002, Loss: 0.1586\n",
      "100%|███████████████████████████████████████████| 22/22 [00:15<00:00,  1.40it/s]\n",
      "100%|███████████████████████████████████████████| 22/22 [00:15<00:00,  1.39it/s]\n",
      "100%|███████████████████████████████████████████| 22/22 [00:15<00:00,  1.40it/s]\n",
      "100%|███████████████████████████████████████████| 22/22 [00:15<00:00,  1.40it/s]\n",
      " 86%|█████████████████████████████████████▏     | 19/22 [00:13<00:02,  1.44it/s]Epoch: 40, current_batch: 900, learning rate: 0.000001, Loss: 0.1425\n",
      "100%|███████████████████████████████████████████| 22/22 [00:15<00:00,  1.40it/s]\n",
      "100%|███████████████████████████████████████████| 22/22 [00:15<00:00,  1.40it/s]\n",
      "100%|███████████████████████████████████████████| 22/22 [00:15<00:00,  1.40it/s]\n",
      "100%|███████████████████████████████████████████| 22/22 [00:15<00:00,  1.38it/s]\n",
      "100%|███████████████████████████████████████████| 22/22 [00:15<00:00,  1.40it/s]\n",
      " 41%|██████████████████                          | 9/22 [00:06<00:09,  1.43it/s]Epoch: 45, current_batch: 1000, learning rate: 0.000000, Loss: 0.1407\n",
      " 41%|██████████████████                          | 9/22 [00:13<00:19,  1.51s/it]\n",
      "The best checkpoint on validation set is: model/DAS/zebra_finch/whisperseg/checkpoint-1000,\n",
      "Reporting test results ...\n",
      "100%|█████████████████████████████████████████████| 2/2 [00:08<00:00,  4.26s/it]\n",
      "Test performance: f1 score: 1.0000\n",
      "Removing sub-optimal checkpoints ...\n",
      "All Done!\n"
     ]
    }
   ],
   "source": [
    "!python train.py -initial_model_path nccratliri/whisperseg-zebra-finch  -model_folder  model/DAS/zebra_finch/whisperseg -result_folder  result/DAS/zebra_finch/whisperseg -train_dataset_folder  data/dataset/DAS/zebra_finch/train/ -test_dataset_folder  data/dataset/DAS/zebra_finch/test/ -timestamp_precision 0.005 -warmup_steps 100 -save_every 1000 -max_num_iterations 1000"
   ]
  },
  {
   "cell_type": "markdown",
   "id": "3edf51a3-8e04-4bd1-85f6-7b2e67173800",
   "metadata": {},
   "source": [
    "Let's use the finetuned WhisperSeg to segment the audio from the DAS_zebra_finch test set again."
   ]
  },
  {
   "cell_type": "code",
   "execution_count": 1,
   "id": "4186a9aa-c7ea-43f5-90a0-2ae97fe7a8fc",
   "metadata": {
    "tags": []
   },
   "outputs": [],
   "source": [
    "from model import WhisperSegmenter\n",
    "import librosa\n",
    "import pandas as pd\n",
    "import numpy as np\n",
    "from tqdm import tqdm\n",
    "import os"
   ]
  },
  {
   "cell_type": "code",
   "execution_count": 2,
   "id": "1e13085d-000c-4e02-a55e-531d8fcfafc4",
   "metadata": {
    "tags": []
   },
   "outputs": [],
   "source": [
    "segmenter = WhisperSegmenter( model_path = \"model/DAS/zebra_finch/whisperseg/checkpoint-1000\", \n",
    "                        device = \"cuda\")"
   ]
  },
  {
   "cell_type": "code",
   "execution_count": 3,
   "id": "71e342cc-9d68-4304-806f-2aa82f14b1bc",
   "metadata": {
    "tags": []
   },
   "outputs": [],
   "source": [
    "audio_file_name = \"data/dataset/DAS/zebra_finch/test/birdname_130519_113316.31.wav\"\n",
    "audio, _ = librosa.load( audio_file_name, sr = 16000 )\n",
    "\n",
    "human_annotation_file_name = \"data/dataset/DAS/zebra_finch/test/birdname_130519_113316.31.csv\"\n",
    "label_df = pd.read_csv( human_annotation_file_name )\n",
    "label = {\n",
    "    \"onset\":np.array(label_df[\"onset\"]),\n",
    "    \"offset\":np.array(label_df[\"offset\"]),\n",
    "    \"cluster\":list(label_df[\"cluster\"]) \n",
    "}\n",
    "prediction = segmenter.segment( audio )\n"
   ]
  },
  {
   "cell_type": "code",
   "execution_count": 4,
   "id": "8bf6a4df-5ea3-41a3-b950-55e29a4e72b6",
   "metadata": {
    "tags": []
   },
   "outputs": [
    {
     "data": {
      "application/vnd.jupyter.widget-view+json": {
       "model_id": "1a3960d57a814361a3ebce3c10a41b8c",
       "version_major": 2,
       "version_minor": 0
      },
      "text/plain": [
       "interactive(children=(FloatSlider(value=4.25, description='offset', max=8.6498125, step=0.25), Output()), _dom…"
      ]
     },
     "metadata": {},
     "output_type": "display_data"
    },
    {
     "data": {
      "text/plain": [
       "<function ipywidgets.widgets.interaction._InteractFactory.__call__.<locals>.<lambda>(*args, **kwargs)>"
      ]
     },
     "execution_count": 4,
     "metadata": {},
     "output_type": "execute_result"
    }
   ],
   "source": [
    "segmenter.visualize( audio = audio, prediction = prediction, label = label, audio_file_name = audio_file_name)"
   ]
  },
  {
   "cell_type": "markdown",
   "id": "db957ae5-fc34-4287-9107-11d544bdf2fd",
   "metadata": {},
   "source": [
    "Therefore, WhisperSeg does perform better after finetuning!"
   ]
  },
  {
   "cell_type": "markdown",
   "id": "a44d8881-5827-4d1a-968e-315a645d93c9",
   "metadata": {},
   "source": [
    "# Speed Up Inference with ctranslate2 - WhisperSegmenterFast\n",
    "\n",
    "The environment.yml has been updated due to the adding of the ctranslate2 package. \n",
    "\n",
    "**Running the code below does not rely on the previous codes in this notebook. One can restart the kernel before run the following code, to release some GPU usage.**"
   ]
  },
  {
   "cell_type": "markdown",
   "id": "355940f4-4ba0-4fb9-ad7b-3b4cfe852ebe",
   "metadata": {},
   "source": [
    "## convert the huggingface Whisper model to the CTranslate2 model, and store the configuration files of the tokenizer and feature-extractor"
   ]
  },
  {
   "cell_type": "markdown",
   "id": "bc0cb301-e983-4ec2-a7cc-201aae0a37ea",
   "metadata": {},
   "source": [
    "**Note: The following cell only needs to be run once. Once the model is converted, one can directly use the ctranslate converted model as shown below.**"
   ]
  },
  {
   "cell_type": "code",
   "execution_count": 1,
   "id": "47471c43-01b9-43a9-a823-666a4d4da356",
   "metadata": {
    "tags": []
   },
   "outputs": [
    {
     "data": {
      "text/plain": [
       "('model/whisperseg-zebra-finch-ct2/hf_model/tokenizer_config.json',\n",
       " 'model/whisperseg-zebra-finch-ct2/hf_model/special_tokens_map.json',\n",
       " 'model/whisperseg-zebra-finch-ct2/hf_model/vocab.json',\n",
       " 'model/whisperseg-zebra-finch-ct2/hf_model/merges.txt',\n",
       " 'model/whisperseg-zebra-finch-ct2/hf_model/normalizer.json',\n",
       " 'model/whisperseg-zebra-finch-ct2/hf_model/added_tokens.json')"
      ]
     },
     "execution_count": 1,
     "metadata": {},
     "output_type": "execute_result"
    }
   ],
   "source": [
    "from huggingface_hub import hf_hub_download\n",
    "from transformers import WhisperForConditionalGeneration, WhisperFeatureExtractor, WhisperTokenizer\n",
    "import os\n",
    "import shutil\n",
    "## If you have trained model on new dataset, replace this hf_model_path's value with the path to the newly saved checkpoint\n",
    "hf_model_path = \"nccratliri/whisperseg-zebra-finch\"\n",
    "## The path to the folder where the converted ctranslate2 model will be saved. \n",
    "## In the meantime, the configuration files for Tokenizer and FeatureExtractors will also be copied to this folder\n",
    "ct2_model_path = \"model/whisperseg-zebra-finch-ct2\"\n",
    "\n",
    "assert not os.path.exists(ct2_model_path)\n",
    "\n",
    "os.system( \"ct2-transformers-converter --model %s --output_dir %s\"%( hf_model_path, ct2_model_path ) )\n",
    "## copy the configuration file of the original huggingface model, because it contains some useful hyperparameters\n",
    "if os.path.exists(hf_model_path):\n",
    "    if not os.path.exists(ct2_model_path+\"/hf_model/\"):\n",
    "        os.makedirs(ct2_model_path+\"/hf_model/\")\n",
    "    shutil.copy( hf_model_path + \"/config.json\", ct2_model_path+\"/hf_model/\" )\n",
    "else:\n",
    "    hf_hub_download(repo_id=hf_model_path, filename=\"config.json\", local_dir = ct2_model_path+\"/hf_model/\")\n",
    "\n",
    "WhisperFeatureExtractor.from_pretrained( hf_model_path ).save_pretrained( ct2_model_path+\"/hf_model/\" )\n",
    "WhisperTokenizer.from_pretrained(hf_model_path, language = \"english\" ).save_pretrained( ct2_model_path+\"/hf_model/\" )"
   ]
  },
  {
   "cell_type": "markdown",
   "id": "e89aa1a6-a6e2-413f-b25d-e28791191579",
   "metadata": {},
   "source": [
    "## Use the CTranslate2 Converted Model"
   ]
  },
  {
   "cell_type": "code",
   "execution_count": 2,
   "id": "d2439b48-5016-44ef-86cf-31f406d38a5a",
   "metadata": {
    "tags": []
   },
   "outputs": [],
   "source": [
    "from model import WhisperSegmenterFast\n",
    "import librosa\n",
    "import pandas as pd\n",
    "import numpy as np\n",
    "from tqdm import tqdm\n",
    "import os\n",
    "import time"
   ]
  },
  {
   "cell_type": "code",
   "execution_count": 3,
   "id": "a0a52cf2-ad8d-497b-8659-c4ba4503bd06",
   "metadata": {
    "tags": []
   },
   "outputs": [],
   "source": [
    "segmenter_fast = WhisperSegmenterFast( \"model/whisperseg-zebra-finch-ct2\", device=\"cuda\" )\n",
    "\n"
   ]
  },
  {
   "cell_type": "code",
   "execution_count": 4,
   "id": "e421e898-62b0-4adf-a8bb-a36684017b68",
   "metadata": {
    "tags": []
   },
   "outputs": [
    {
     "data": {
      "application/vnd.jupyter.widget-view+json": {
       "model_id": "d400e8430c5b4641ac7bffbb56dd983d",
       "version_major": 2,
       "version_minor": 0
      },
      "text/plain": [
       "interactive(children=(FloatSlider(value=1.0, description='offset', max=2.0530625000000002, step=0.25), Output(…"
      ]
     },
     "metadata": {},
     "output_type": "display_data"
    },
    {
     "name": "stdout",
     "output_type": "stream",
     "text": [
      "Audio Length: 7.053063 s\n",
      "Segmentation Time: 1.961712 s\n"
     ]
    }
   ],
   "source": [
    "audio_file_name = \"data/dataset/zebra_finch_test/R3406_40911.54676404_1_3_15_11_16.wav\"\n",
    "human_annotation_file_name = \"data/dataset/zebra_finch_test/R3406_40911.54676404_1_3_15_11_16.csv\"\n",
    "audio, _ = librosa.load( audio_file_name, sr = 16000 )\n",
    "label_df = pd.read_csv( human_annotation_file_name )\n",
    "label = {\n",
    "    \"onset\":np.array(label_df[\"onset\"]),\n",
    "    \"offset\":np.array(label_df[\"offset\"]),\n",
    "    \"cluster\":label_df[\"cluster\"]\n",
    "}\n",
    "\n",
    "tic = time.time()\n",
    "prediction = segmenter_fast.segment( audio, batch_size=16 )\n",
    "tac = time.time()\n",
    "\n",
    "segmenter_fast.visualize( audio = audio, prediction = prediction, label = label, audio_file_name = audio_file_name)\n",
    "\n",
    "print(\"Audio Length: %f s\"%(len(audio)/16000))\n",
    "print(\"Segmentation Time: %f s\"%(tac - tic))"
   ]
  },
  {
   "cell_type": "markdown",
   "id": "0ec736e6-479e-4616-a29f-e09fc4a4ea2a",
   "metadata": {},
   "source": [
    "# Run WhisperSeg as a Web Service"
   ]
  },
  {
   "cell_type": "markdown",
   "id": "78071a14-34c5-4cc7-97d2-6554c158c1d9",
   "metadata": {},
   "source": [
    "Runing WhisperSeg as a Web service make it possible to disentangle the environment of the WhisperSeg and the environment where this segmenting function is called. For example, we can set up a WhisperSeg segmenting service at one machine, and call the segmenting service in different working environment (Matlab, Webpage frontend, Jupyter Notebook) at different physical locations.\n",
    "\n",
    "This enables an easy implementation of calling WhisperSeg in Matlab and is essential for setting up a Web page for automatic vocal segmentation."
   ]
  },
  {
   "cell_type": "markdown",
   "id": "679fb4dd-76db-4b85-a162-ab2124da2438",
   "metadata": {},
   "source": [
    "## Step 1: Starting the segmenting service\n",
    "In a terminal, run the following command:\n",
    "```bash\n",
    "python segment_service.py -flask_port 8050 -model_path model/whisperseg-zebra-finch-ct2 -device cuda\n",
    "```\n",
    "\n",
    "Illustration of the parameters:\n",
    "* flask_port: the port that this service will keep listening to. Requests that are sent to this port will be handled by this service\n",
    "* model_path: the path to the WhisperSeg model. This model can either be original huggingface model, e.g., nccratliri/whisperseg-zebra-finch, or CTranslate converted model, e.g., model/whisperseg-zebra-finch-ct2. If you choose to use the Ctranslate converted model, please make sure the converted model exists.\n",
    "* device: where to run the WhisperSeg. It can be cuda or cpu. By default we run the model on cuda\n",
    "\n",
    "**Note**:\n",
    "The terminal that runs this service needs to be kept open. On Linux system's terminal, one can first create a new screen and run the service in the created screen, to allow the service runing in the background."
   ]
  },
  {
   "cell_type": "markdown",
   "id": "a584ed8c-f4c2-4e93-9470-a6a71e312209",
   "metadata": {},
   "source": [
    "## Step 2: Calling the segmenting service"
   ]
  },
  {
   "cell_type": "markdown",
   "id": "ad62ab01-011a-4c6f-ba36-eed8ef9e6cf9",
   "metadata": {},
   "source": [
    "### call the segmenting service in python:"
   ]
  },
  {
   "cell_type": "code",
   "execution_count": 4,
   "id": "059ee377-a8e8-4f7c-a263-991ee00a8622",
   "metadata": {
    "tags": []
   },
   "outputs": [],
   "source": [
    "import requests,json,base64\n",
    "\n",
    "## define a function for segmentation\n",
    "def call_segment_service( audio_file_path, service_address ):\n",
    "    audio_file_base64_string = base64.b64encode( open(audio_file_path, 'rb').read()).decode('ASCII')\n",
    "    response = requests.post( service_address,\n",
    "                              data = json.dumps( {\n",
    "                                  \"audio_file_base64_string\":audio_file_base64_string\n",
    "                              } ),\n",
    "                              headers = {\"Content-Type\": \"application/json\"}\n",
    "                            )\n",
    "    return response.json()"
   ]
  },
  {
   "cell_type": "code",
   "execution_count": 5,
   "id": "2a537c76-6353-4ff8-bc55-37547260858e",
   "metadata": {
    "tags": []
   },
   "outputs": [
    {
     "name": "stdout",
     "output_type": "stream",
     "text": [
      "{'cluster': ['0', '0', '0', '0', '0', '0', '0', '0', '0', '0', '0', '0', '0', '0', '0', '0', '0'], 'offset': [1.58, 1.885, 2.035, 2.105, 2.24, 2.37, 2.58, 2.8449999999999998, 3.03, 3.125, 3.24, 3.43, 3.67, 3.9050000000000002, 4.15, 4.39, 5.07], 'onset': [1.47, 1.83, 1.9300000000000002, 2.055, 2.17, 2.26, 2.425, 2.715, 2.915, 3.055, 3.135, 3.2800000000000002, 3.625, 3.815, 4.1, 4.2, 4.97]}\n"
     ]
    }
   ],
   "source": [
    "prediction = call_segment_service( audio_file_path = \"data/dataset/zebra_finch_test/R3406_40911.54676404_1_3_15_11_16.wav\", \n",
    "                                   service_address = \"http://localhost:8050/segment\")\n",
    "\n",
    "print(prediction)"
   ]
  },
  {
   "cell_type": "markdown",
   "id": "c6e7d83f-0fe9-49aa-90a3-927859c819f8",
   "metadata": {},
   "source": [
    "**Note:** \n",
    "1. Runing the following code does not require any further dependencies or load any models\n",
    "2. The service_address is composed of **SEGMENTING_SERVER_IP_ADDRESS** + **\":\"** + **FLASK_PORT_NUMBER** + **\"/segment\"**. If the server is running in the local machine, then the SEGMENTING_SERVER_IP_ADDRESS is \"http://localhost\", otherwise, you will need to know the IP address of the server machine. "
   ]
  },
  {
   "cell_type": "markdown",
   "id": "6b70c313-ac4e-4065-8359-835e9d57913c",
   "metadata": {},
   "source": [
    "### call the segmenting service in MATLAB:"
   ]
  },
  {
   "cell_type": "markdown",
   "id": "a9123914-f143-46c1-bbe8-043e524e8918",
   "metadata": {},
   "source": [
    "First define a matlab function\n",
    "\n",
    "```matlab\n",
    "\n",
    "function response = call_segment_service(audio_file_path, service_address)\n",
    "\n",
    "    fileID = fopen(audio_file_path, 'r');\n",
    "    fileData = fread(fileID, inf, 'uint8=>uint8');\n",
    "\n",
    "    audio_file_base64_string = matlab.net.base64encode( fileData );\n",
    "    data = struct('audio_file_base64_string', audio_file_base64_string);\n",
    "    jsonData = jsonencode(data);\n",
    "\n",
    "    options = weboptions( 'RequestMethod', 'POST', 'MediaType', 'application/json'  );\n",
    "    response = webwrite(service_address, jsonData, options);\n",
    "\n",
    "end\n",
    "```\n",
    "\n",
    "Then call the matlab function in MATLAB console:\n",
    "\n",
    "```matlab\n",
    "prediction = call_segment_service( \n",
    "                           'data/dataset/zebra_finch_test/R3406_40911.54676404_1_3_15_11_16.wav', \n",
    "                           'http://localhost:8050/segment' \n",
    "                      )\n",
    "disp(prediction)\n",
    "\n",
    "```"
   ]
  },
  {
   "cell_type": "code",
   "execution_count": null,
   "id": "63db4bad-a917-4abb-aa6d-503198ad127b",
   "metadata": {},
   "outputs": [],
   "source": []
  }
 ],
 "metadata": {
  "kernelspec": {
   "display_name": "Python [conda env:syllable_segment]",
   "language": "python",
   "name": "conda-env-syllable_segment-py"
  },
  "language_info": {
   "codemirror_mode": {
    "name": "ipython",
    "version": 3
   },
   "file_extension": ".py",
   "mimetype": "text/x-python",
   "name": "python",
   "nbconvert_exporter": "python",
   "pygments_lexer": "ipython3",
   "version": "3.9.16"
  }
 },
 "nbformat": 4,
 "nbformat_minor": 5
}
