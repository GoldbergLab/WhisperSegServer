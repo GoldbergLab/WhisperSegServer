{
 "cells": [
  {
   "cell_type": "code",
   "execution_count": 8,
   "id": "5066ca4e-4d83-4192-babf-2730b4e86e78",
   "metadata": {},
   "outputs": [],
   "source": [
    "import json\n",
    "from glob import glob\n",
    "import numpy as np\n",
    "import pandas as pd"
   ]
  },
  {
   "cell_type": "code",
   "execution_count": 137,
   "id": "d0b2613d-003b-4aa2-9bf8-69a0a729f2b6",
   "metadata": {},
   "outputs": [],
   "source": [
    "label_fname_list = glob(\"data/example_subset/Meerkat/test/*.json\")"
   ]
  },
  {
   "cell_type": "code",
   "execution_count": 144,
   "id": "c43e2c96-55c3-4aab-adbd-b7f59efa0168",
   "metadata": {},
   "outputs": [],
   "source": [
    "df = pd.DataFrame({\"onset\":[1,2,3],\"cluster\":[\"2\",\"4\",\"5\"]})"
   ]
  },
  {
   "cell_type": "code",
   "execution_count": 148,
   "id": "9fd5260e-c682-4f99-8574-4431daf80489",
   "metadata": {},
   "outputs": [
    {
     "data": {
      "text/plain": [
       "{'onset': [1, 2, 3], 'cluster': ['2', '4', '5']}"
      ]
     },
     "execution_count": 148,
     "metadata": {},
     "output_type": "execute_result"
    }
   ],
   "source": [
    "{ k:v.tolist() for k,v in df.items() }"
   ]
  },
  {
   "cell_type": "code",
   "execution_count": null,
   "id": "cec1bb2d-a024-4a68-9b71-3afc6d071083",
   "metadata": {},
   "outputs": [],
   "source": [
    "species\"zebra_finch\"\n",
    "sr32000\n",
    "min_frequency0\n",
    "spec_time_step0.0025\n",
    "min_segment_length0.01\n",
    "tolerance0.01\n",
    "time_per_frame_for_scoring0.001\n",
    "eps0.02"
   ]
  },
  {
   "cell_type": "code",
   "execution_count": 3,
   "id": "1064db7f-7455-4098-bf5a-971386319e42",
   "metadata": {},
   "outputs": [
    {
     "data": {
      "text/plain": [
       "False"
      ]
     },
     "execution_count": 3,
     "metadata": {},
     "output_type": "execute_result"
    }
   ],
   "source": [
    "{}.get(\"AA\",\"\") is None"
   ]
  },
  {
   "cell_type": "code",
   "execution_count": 9,
   "id": "e1eb2028-19de-4c6b-9fa4-ce56d04d3468",
   "metadata": {},
   "outputs": [
    {
     "data": {
      "text/plain": [
       "0.025"
      ]
     },
     "execution_count": 9,
     "metadata": {},
     "output_type": "execute_result"
    }
   ],
   "source": [
    "0.0025 * 10"
   ]
  },
  {
   "cell_type": "code",
   "execution_count": 2,
   "id": "28c6cd8f-b05d-45e3-96ae-3ef243dce45f",
   "metadata": {},
   "outputs": [],
   "source": [
    "from utils import RATIO_DECODING_TIME_STEP_TO_SPEC_TIME_STEP"
   ]
  },
  {
   "cell_type": "code",
   "execution_count": 3,
   "id": "6f12258a-d8a9-473b-839b-713b6b44e019",
   "metadata": {},
   "outputs": [],
   "source": [
    "from datautils import get_audio_and_label_paths, read_label"
   ]
  },
  {
   "cell_type": "code",
   "execution_count": 4,
   "id": "1f852a46-c5b0-446b-b181-fd9d4cd25072",
   "metadata": {},
   "outputs": [],
   "source": [
    "import soundfile as sf\n",
    "def get_sampling_rate(file_path):\n",
    "    with sf.SoundFile(file_path) as audio_file:\n",
    "        sampling_rate = audio_file.samplerate\n",
    "    return sampling_rate"
   ]
  },
  {
   "cell_type": "code",
   "execution_count": 30,
   "id": "0de75ab3-6a2f-4fd7-ad10-f48a06f5f44b",
   "metadata": {},
   "outputs": [
    {
     "data": {
      "text/plain": [
       "6"
      ]
     },
     "execution_count": 30,
     "metadata": {},
     "output_type": "execute_result"
    }
   ],
   "source": [
    "max([3,4,5,6])"
   ]
  },
  {
   "cell_type": "code",
   "execution_count": 24,
   "id": "84544b4d-26b3-45d1-99bb-ef1a5e326c6d",
   "metadata": {},
   "outputs": [],
   "source": [
    "audio_paths, label_paths = get_audio_and_label_paths(\"data/example_subset/Zebra_finch/test_juveniles/\")"
   ]
  },
  {
   "cell_type": "code",
   "execution_count": 25,
   "id": "ef513c89-2b0d-4b0f-8f79-f2b0113b0872",
   "metadata": {},
   "outputs": [
    {
     "name": "stdout",
     "output_type": "stream",
     "text": [
      "0.0025\n"
     ]
    },
    {
     "data": {
      "text/plain": [
       "{'species': 'unkown',\n",
       " 'sr': 32000,\n",
       " 'min_frequency': 0,\n",
       " 'spec_time_step': 0.0025,\n",
       " 'min_segment_length': 0.005,\n",
       " 'tolerance': 0.0125,\n",
       " 'time_per_frame_for_scoring': 0.0025,\n",
       " 'eps': 0.025}"
      ]
     },
     "execution_count": 25,
     "metadata": {},
     "output_type": "execute_result"
    }
   ],
   "source": [
    "determine_default_config(audio_paths, label_paths, total_spec_columns=1000)"
   ]
  },
  {
   "cell_type": "code",
   "execution_count": 16,
   "id": "ac9da541-118a-4c9b-a164-84b4ea8b94b7",
   "metadata": {},
   "outputs": [],
   "source": [
    "def determine_default_config(audio_paths, label_paths, total_spec_columns):\n",
    "    onsets = []\n",
    "    offsets = []\n",
    "    for label_path in label_paths:\n",
    "        label = read_label(label_path)\n",
    "        onsets += label[\"onset\"]\n",
    "        offsets += label[\"offset\"]\n",
    "    print(label[\"spec_time_step\"])\n",
    "    onsets = np.array(onsets)\n",
    "    offsets = np.array(offsets)\n",
    "    assert len(onsets) > 0, \"No vocal segment is annotated in the label files.\"\n",
    "    seg_dur_median = np.median( offsets - onsets )\n",
    "    ## 20 is an empirical scale factor\n",
    "    spec_time_step = np.ceil(seg_dur_median * 20 / 0.5) * 0.5  / total_spec_columns\n",
    "    min_segment_length = spec_time_step * RATIO_DECODING_TIME_STEP_TO_SPEC_TIME_STEP\n",
    "    tolerance = spec_time_step * 5\n",
    "    time_per_frame_for_scoring = spec_time_step\n",
    "    eps = spec_time_step * 10\n",
    "    min_frequency = 0\n",
    "    species = \"unkown\"\n",
    "    sr_list = []\n",
    "    for audio_fname in audio_paths:\n",
    "        sr_list.append( get_sampling_rate( audio_fname ) )\n",
    "    assert len(sr_list) > 0, \"No valid audios were provided.\"\n",
    "    sr = int(np.median(sr_list))\n",
    "    return {\n",
    "        \"species\": species,\n",
    "        \"sr\":sr,\n",
    "        \"min_frequency\":min_frequency,\n",
    "        \"spec_time_step\":spec_time_step,\n",
    "        \"min_segment_length\":min_segment_length,\n",
    "        \"tolerance\":tolerance,\n",
    "        \"time_per_frame_for_scoring\":time_per_frame_for_scoring,\n",
    "        \"eps\":eps\n",
    "    }"
   ]
  },
  {
   "cell_type": "code",
   "execution_count": 11,
   "id": "78455043-a391-4e32-82c6-03d8b623cae1",
   "metadata": {},
   "outputs": [
    {
     "data": {
      "text/plain": [
       "32000"
      ]
     },
     "execution_count": 11,
     "metadata": {},
     "output_type": "execute_result"
    }
   ],
   "source": [
    "get_sampling_rate(\"data/example_subset/Bengalese_finch/test/bengalese_finch_bl26lb16_190412_0721.20144_0.wav\")\n"
   ]
  },
  {
   "cell_type": "code",
   "execution_count": 5,
   "id": "ed713de9-9eb2-4f5a-a4f1-2bcb3c002b11",
   "metadata": {},
   "outputs": [
    {
     "data": {
      "text/plain": [
       "{'onset': [0.0116099771112203, 1.7385940551757812],\n",
       " 'offset': [0.1102947872132062, 1.8459863439202309],\n",
       " 'cluster': ['zebra_finch_0', 'zebra_finch_0'],\n",
       " 'species': 'zebra_finch',\n",
       " 'sr': 32000,\n",
       " 'min_frequency': 0,\n",
       " 'spec_time_step': 0.0025,\n",
       " 'min_segment_length': 0.01,\n",
       " 'tolerance': 0.01,\n",
       " 'time_per_frame_for_scoring': 0.001,\n",
       " 'eps': 0.02}"
      ]
     },
     "execution_count": 5,
     "metadata": {},
     "output_type": "execute_result"
    }
   ],
   "source": [
    "label"
   ]
  },
  {
   "cell_type": "code",
   "execution_count": 138,
   "id": "8436c5e5-941d-4e60-b82a-337706e1f27d",
   "metadata": {},
   "outputs": [],
   "source": [
    "onsets = []\n",
    "offsets = []\n",
    "for fname in label_fname_list:\n",
    "    label = json.load(open(fname))\n",
    "    onsets += label[\"onset\"]\n",
    "    offsets += label[\"offset\"]\n",
    "onsets = np.array( onsets )\n",
    "offsets = np.array( offsets )"
   ]
  },
  {
   "cell_type": "code",
   "execution_count": 139,
   "id": "c087f7c2-4103-4300-992c-8f105ea68bba",
   "metadata": {},
   "outputs": [
    {
     "data": {
      "text/plain": [
       "1.0"
      ]
     },
     "execution_count": 139,
     "metadata": {},
     "output_type": "execute_result"
    }
   ],
   "source": [
    "label[\"spec_time_step\"] * 1000"
   ]
  },
  {
   "cell_type": "code",
   "execution_count": 142,
   "id": "8453912f-7346-4f14-8ba9-6b1b91698978",
   "metadata": {},
   "outputs": [
    {
     "data": {
      "text/plain": [
       "2.780000000000271"
      ]
     },
     "execution_count": 142,
     "metadata": {},
     "output_type": "execute_result"
    }
   ],
   "source": [
    "np.median( offsets - onsets ) * 20"
   ]
  },
  {
   "cell_type": "code",
   "execution_count": 141,
   "id": "6ca5ec2a-9eb6-42ce-ad50-e7228373ae84",
   "metadata": {},
   "outputs": [
    {
     "data": {
      "text/plain": [
       "2.198749999999999"
      ]
     },
     "execution_count": 141,
     "metadata": {},
     "output_type": "execute_result"
    }
   ],
   "source": [
    "np.percentile( offsets - onsets, 95 ) * 5"
   ]
  },
  {
   "cell_type": "code",
   "execution_count": 74,
   "id": "3c7f5be6-d8ea-4888-8abb-37ec4b8a2604",
   "metadata": {},
   "outputs": [],
   "source": [
    "import matplotlib.pyplot as plt"
   ]
  },
  {
   "cell_type": "code",
   "execution_count": 75,
   "id": "01c957fe-7ca6-4d8b-860a-a0eab737a5a5",
   "metadata": {},
   "outputs": [
    {
     "data": {
      "text/plain": [
       "(array([68., 43., 21., 47.,  7.,  1.,  2.,  1.,  0.,  1.]),\n",
       " array([0.01866213, 0.04689643, 0.07513072, 0.10336502, 0.13159932,\n",
       "        0.15983361, 0.18806791, 0.21630221, 0.2445365 , 0.2727708 ,\n",
       "        0.3010051 ]),\n",
       " <BarContainer object of 10 artists>)"
      ]
     },
     "execution_count": 75,
     "metadata": {},
     "output_type": "execute_result"
    },
    {
     "data": {
      "image/png": "[encoded data removed]",
      "text/plain": [
       "<Figure size 640x480 with 1 Axes>"
      ]
     },
     "metadata": {},
     "output_type": "display_data"
    }
   ],
   "source": [
    "plt.hist( offsets - onsets )"
   ]
  },
  {
   "cell_type": "code",
   "execution_count": 76,
   "id": "e100be28-e0c6-4f3e-aa84-01eb4ea51b72",
   "metadata": {},
   "outputs": [
    {
     "data": {
      "text/plain": [
       "0.056641879784251614"
      ]
     },
     "execution_count": 76,
     "metadata": {},
     "output_type": "execute_result"
    }
   ],
   "source": [
    "np.median( offsets - onsets )"
   ]
  },
  {
   "cell_type": "code",
   "execution_count": null,
   "id": "fa36b59d-e13f-4cc8-9634-35ef5fbec270",
   "metadata": {},
   "outputs": [],
   "source": []
  },
  {
   "cell_type": "code",
   "execution_count": null,
   "id": "824fa92c-0e8e-4b57-9675-ca0500461664",
   "metadata": {},
   "outputs": [],
   "source": []
  },
  {
   "cell_type": "code",
   "execution_count": 1,
   "id": "bc5b053b-c9a1-444d-adec-43decb1a1b82",
   "metadata": {},
   "outputs": [],
   "source": [
    "from model import WhisperSegmenterFast, WhisperSegmenter\n",
    "import librosa\n",
    "import numpy as np\n",
    "from tqdm import tqdm\n",
    "from copy import deepcopy\n",
    "from train import evaluate\n",
    "from datautils import get_audio_and_label_paths, read_label\n",
    "import os\n",
    "from audio_utils import SpecViewer\n",
    "import subprocess\n",
    "from glob import glob\n",
    "import json"
   ]
  },
  {
   "cell_type": "code",
   "execution_count": 2,
   "id": "837fd249-b647-4bb6-b04f-243a581558b8",
   "metadata": {},
   "outputs": [],
   "source": [
    "def evaluate_dataset( dataset_folder, model_path, num_trials, consolidation_method = \"clustering\",\n",
    "                      max_length = 448, num_beams = 4, batch_size = 8 ):\n",
    "    audio_list, label_list = [], []\n",
    "    audio_paths, label_paths = get_audio_and_label_paths(dataset_folder)\n",
    "    for audio_path, label_path in zip(audio_paths, label_paths):\n",
    "        label = read_label( label_path )\n",
    "        audio, sr = librosa.load( audio_path, sr = label.get(\"sr\", None) )\n",
    "        label[\"sr\"] = sr\n",
    "        audio_list.append(audio)\n",
    "        label_list.append(label) \n",
    "\n",
    "    segmenter = WhisperSegmenterFast(  model_path = model_path,  device = \"cuda\")\n",
    "    res = evaluate( audio_list, label_list, segmenter, batch_size, max_length, num_trials, consolidation_method, num_beams, target_cluster = None )\n",
    "\n",
    "    all_res = {\n",
    "        \"segment_wise_scores\": {\"N-true-positive\": res[\"segment_wise\"][0],\n",
    "                                \"N-positive-in-prediction\": res[\"segment_wise\"][1],\n",
    "                                \"N-positive-in-ground-truth\": res[\"segment_wise\"][2],\n",
    "                                \"precision\": res[\"segment_wise\"][3],\n",
    "                                \"recall\": res[\"segment_wise\"][4],\n",
    "                                \"F1\": res[\"segment_wise\"][5]\n",
    "                                },\n",
    "        \"frame_wise_scores\": {\"N-true-positive\": res[\"frame_wise\"][0],\n",
    "                                \"N-positive-in-prediction\": res[\"frame_wise\"][1],\n",
    "                                \"N-positive-in-ground-truth\": res[\"frame_wise\"][2],\n",
    "                                \"precision\": res[\"frame_wise\"][3],\n",
    "                                \"recall\": res[\"frame_wise\"][4],\n",
    "                                \"F1\": res[\"frame_wise\"][5]\n",
    "                                }\n",
    "    }\n",
    "    return all_res"
   ]
  },
  {
   "cell_type": "code",
   "execution_count": 4,
   "id": "bbfd8fc3-e053-4211-94af-7b2ec1732158",
   "metadata": {},
   "outputs": [
    {
     "name": "stderr",
     "output_type": "stream",
     "text": [
      "Special tokens have been added in the vocabulary, make sure the associated word embeddings are fine-tuned or trained.\n",
      "100%|██████████████████████████████████████████████████████████████████████████████████████████████| 1/1 [00:05<00:00,  5.12s/it]\n"
     ]
    },
    {
     "data": {
      "text/plain": [
       "{'segment_wise_scores': {'N-true-positive': 124,\n",
       "  'N-positive-in-prediction': 125,\n",
       "  'N-positive-in-ground-truth': 133,\n",
       "  'precision': 0.992,\n",
       "  'recall': 0.9323308270676691,\n",
       "  'F1': 0.9612403100775192},\n",
       " 'frame_wise_scores': {'N-true-positive': 5042,\n",
       "  'N-positive-in-prediction': 5105,\n",
       "  'N-positive-in-ground-truth': 5207,\n",
       "  'precision': 0.9876591576885406,\n",
       "  'recall': 0.9683118878432879,\n",
       "  'F1': 0.9778898370830101}}"
      ]
     },
     "execution_count": 4,
     "metadata": {},
     "output_type": "execute_result"
    }
   ],
   "source": [
    "evaluate_dataset( \"data/example_subset/Mouse/test/\", \"nccratliri/whisperseg-large-ms-ct2\", num_trials =3 )"
   ]
  },
  {
   "cell_type": "code",
   "execution_count": null,
   "id": "f612dd7e-1e3d-468e-944f-ee7cfde7a807",
   "metadata": {},
   "outputs": [],
   "source": []
  }
 ],
 "metadata": {
  "kernelspec": {
   "display_name": "Python [conda env:wseg]",
   "language": "python",
   "name": "conda-env-wseg-py"
  },
  "language_info": {
   "codemirror_mode": {
    "name": "ipython",
    "version": 3
   },
   "file_extension": ".py",
   "mimetype": "text/x-python",
   "name": "python",
   "nbconvert_exporter": "python",
   "pygments_lexer": "ipython3",
   "version": "3.10.13"
  }
 },
 "nbformat": 4,
 "nbformat_minor": 5
}
