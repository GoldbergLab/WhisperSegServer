{
 "cells": [
  {
   "cell_type": "code",
   "execution_count": 3,
   "id": "4d7eb4a1-eef1-4a78-814a-beeb075629bd",
   "metadata": {},
   "outputs": [],
   "source": [
    "from model import WhisperSegmenterFast\n",
    "import librosa\n",
    "import json\n",
    "segmenter = WhisperSegmenterFast( \"nccratliri/whisperseg-large-ms-ct2\", device=\"cuda\" )"
   ]
  },
  {
   "cell_type": "code",
   "execution_count": 4,
   "id": "592e07f4-a281-4aaf-b51a-e1aa17bfd95c",
   "metadata": {},
   "outputs": [],
   "source": [
    "sr = 32000  \n",
    "min_frequency = 0\n",
    "spec_time_step = 0.0025\n",
    "min_segment_length = 0.01\n",
    "eps = 0.02\n",
    "num_trials = 3\n",
    "\n",
    "audio, _ = librosa.load( \"data/example_subset/Zebra_finch/test_adults/zebra_finch_g17y2U-f00007.wav\", \n",
    "                         sr = sr )\n",
    "\n",
    "prediction = segmenter.segment(  audio, sr = sr, min_frequency = min_frequency, spec_time_step = spec_time_step,\n",
    "                       min_segment_length = min_segment_length, eps = eps,num_trials = num_trials )"
   ]
  },
  {
   "cell_type": "code",
   "execution_count": 8,
   "id": "44141d84-906f-4537-a03d-57e9a72f0fd1",
   "metadata": {},
   "outputs": [
    {
     "name": "stdout",
     "output_type": "stream",
     "text": [
      "{'onset': [0.01, 0.38, 0.603, 0.758, 0.912, 1.813, 1.967, 2.073, 2.838, 2.982, 3.112, 3.668, 3.828, 3.953, 5.158, 5.323, 5.467], 'offset': [0.073, 0.447, 0.673, 0.83, 1.483, 1.882, 2.037, 2.643, 2.893, 3.063, 3.283, 3.742, 3.898, 4.523, 5.223, 5.393, 6.043], 'cluster': ['zebra_finch_0', 'zebra_finch_0', 'zebra_finch_0', 'zebra_finch_0', 'zebra_finch_0', 'zebra_finch_0', 'zebra_finch_0', 'zebra_finch_0', 'zebra_finch_0', 'zebra_finch_0', 'zebra_finch_0', 'zebra_finch_0', 'zebra_finch_0', 'zebra_finch_0', 'zebra_finch_0', 'zebra_finch_0', 'zebra_finch_0']}\n"
     ]
    }
   ],
   "source": [
    "print(prediction)"
   ]
  },
  {
   "cell_type": "code",
   "execution_count": null,
   "id": "7758bb02-a013-4aa3-9a1f-5c35836b8535",
   "metadata": {},
   "outputs": [],
   "source": []
  }
 ],
 "metadata": {
  "kernelspec": {
   "display_name": "Python 3 (ipykernel)",
   "language": "python",
   "name": "python3"
  },
  "language_info": {
   "codemirror_mode": {
    "name": "ipython",
    "version": 3
   },
   "file_extension": ".py",
   "mimetype": "text/x-python",
   "name": "python",
   "nbconvert_exporter": "python",
   "pygments_lexer": "ipython3",
   "version": "3.10.12"
  }
 },
 "nbformat": 4,
 "nbformat_minor": 5
}
